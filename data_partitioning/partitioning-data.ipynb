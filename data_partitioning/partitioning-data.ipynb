{
 "cells": [
  {
   "cell_type": "code",
   "id": "initial_id",
   "metadata": {
    "collapsed": true,
    "ExecuteTime": {
     "end_time": "2025-04-20T19:29:05.456088Z",
     "start_time": "2025-04-20T19:29:05.441079Z"
    }
   },
   "source": "from partitioning import create_data_partitions",
   "outputs": [],
   "execution_count": 5
  },
  {
   "metadata": {
    "ExecuteTime": {
     "end_time": "2025-04-20T19:29:06.344236Z",
     "start_time": "2025-04-20T19:29:06.201014Z"
    }
   },
   "cell_type": "code",
   "source": [
    "features_path = \"../preprocessing/data/features.zarr\"\n",
    "output_dir = \"results/data_partition\"\n",
    "\n",
    "splits = create_data_partitions(features_path, output_dir, seed=1)"
   ],
   "id": "a73cd7aa9199973b",
   "outputs": [
    {
     "name": "stderr",
     "output_type": "stream",
     "text": [
      "D:\\ML2025\\PCPP\\.venv\\Lib\\site-packages\\zarr\\codecs\\vlen_utf8.py:44: UserWarning: The codec `vlen-utf8` is currently not part in the Zarr format 3 specification. It may not be supported by other zarr implementations and may change in the future.\n",
      "  return cls(**configuration_parsed)\n",
      "D:\\ML2025\\PCPP\\.venv\\Lib\\site-packages\\numpy\\_core\\fromnumeric.py:3860: RuntimeWarning: Mean of empty slice.\n",
      "  return _methods._mean(a, axis=axis, dtype=dtype,\n",
      "D:\\ML2025\\PCPP\\.venv\\Lib\\site-packages\\numpy\\_core\\_methods.py:145: RuntimeWarning: divide by zero encountered in divide\n",
      "  ret = ret.dtype.type(ret / rcount)\n"
     ]
    },
    {
     "ename": "ValueError",
     "evalue": "cannot convert float NaN to integer",
     "output_type": "error",
     "traceback": [
      "\u001B[31m---------------------------------------------------------------------------\u001B[39m",
      "\u001B[31mValueError\u001B[39m                                Traceback (most recent call last)",
      "\u001B[36mCell\u001B[39m\u001B[36m \u001B[39m\u001B[32mIn[6]\u001B[39m\u001B[32m, line 4\u001B[39m\n\u001B[32m      1\u001B[39m features_path = \u001B[33m\"\u001B[39m\u001B[33m../preprocessing/data/features.zarr\u001B[39m\u001B[33m\"\u001B[39m\n\u001B[32m      2\u001B[39m output_dir = \u001B[33m\"\u001B[39m\u001B[33mresults/data_partition\u001B[39m\u001B[33m\"\u001B[39m\n\u001B[32m----> \u001B[39m\u001B[32m4\u001B[39m splits = \u001B[43mcreate_data_partitions\u001B[49m\u001B[43m(\u001B[49m\u001B[43mfeatures_path\u001B[49m\u001B[43m,\u001B[49m\u001B[43m \u001B[49m\u001B[43moutput_dir\u001B[49m\u001B[43m,\u001B[49m\u001B[43m \u001B[49m\u001B[43mseed\u001B[49m\u001B[43m=\u001B[49m\u001B[32;43m1\u001B[39;49m\u001B[43m)\u001B[49m\n",
      "\u001B[36mFile \u001B[39m\u001B[32mD:\\ML2025\\PCPP\\data_partitioning\\partitioning.py:168\u001B[39m, in \u001B[36mcreate_data_partitions\u001B[39m\u001B[34m(features_path, output_dir, seed)\u001B[39m\n\u001B[32m    161\u001B[39m station_array = features_ds.station\n\u001B[32m    163\u001B[39m dp_config = {\n\u001B[32m    164\u001B[39m     \u001B[33m\"\u001B[39m\u001B[33mp\u001B[39m\u001B[33m\"\u001B[39m: [\u001B[32m0.6\u001B[39m, \u001B[32m0.2\u001B[39m, \u001B[32m0.2\u001B[39m],\n\u001B[32m    165\u001B[39m     \u001B[33m\"\u001B[39m\u001B[33mn_splits\u001B[39m\u001B[33m\"\u001B[39m: \u001B[32m4\u001B[39m,\n\u001B[32m    166\u001B[39m }\n\u001B[32m--> \u001B[39m\u001B[32m168\u001B[39m time_splits = \u001B[43msplit_time\u001B[49m\u001B[43m(\u001B[49m\n\u001B[32m    169\u001B[39m \u001B[43m    \u001B[49m\u001B[43mtime_array\u001B[49m\u001B[43m,\u001B[49m\u001B[43m \u001B[49m\u001B[43m*\u001B[49m\u001B[43m*\u001B[49m\u001B[43mdp_config\u001B[49m\u001B[43m,\u001B[49m\u001B[43m \u001B[49m\u001B[43mseed\u001B[49m\u001B[43m=\u001B[49m\u001B[43mseed\u001B[49m\n\u001B[32m    170\u001B[39m \u001B[43m\u001B[49m\u001B[43m)\u001B[49m\n\u001B[32m    172\u001B[39m \u001B[38;5;28;01mif\u001B[39;00m output_dir:\n\u001B[32m    173\u001B[39m     plot_time_splits(time_array, time_splits, output_dir / \u001B[33m\"\u001B[39m\u001B[33mtime_split.png\u001B[39m\u001B[33m\"\u001B[39m)\n",
      "\u001B[36mFile \u001B[39m\u001B[32mD:\\ML2025\\PCPP\\data_partitioning\\partitioning.py:92\u001B[39m, in \u001B[36msplit_time\u001B[39m\u001B[34m(time_array, p, n_splits, shuffle, seed, gap)\u001B[39m\n\u001B[32m     84\u001B[39m \u001B[38;5;28;01mdef\u001B[39;00m\u001B[38;5;250m \u001B[39m\u001B[34msplit_time\u001B[39m(\n\u001B[32m     85\u001B[39m         time_array: xr.DataArray,\n\u001B[32m     86\u001B[39m         p: \u001B[38;5;28mlist\u001B[39m,\n\u001B[32m   (...)\u001B[39m\u001B[32m     90\u001B[39m         gap=\u001B[33m\"\u001B[39m\u001B[33m5D\u001B[39m\u001B[33m\"\u001B[39m,\n\u001B[32m     91\u001B[39m ):\n\u001B[32m---> \u001B[39m\u001B[32m92\u001B[39m     gap_idx = \u001B[38;5;28;43mint\u001B[39;49m\u001B[43m(\u001B[49m\u001B[43mpd\u001B[49m\u001B[43m.\u001B[49m\u001B[43mTimedelta\u001B[49m\u001B[43m(\u001B[49m\u001B[43mgap\u001B[49m\u001B[43m)\u001B[49m\u001B[43m \u001B[49m\u001B[43m/\u001B[49m\u001B[43m \u001B[49m\u001B[43mnp\u001B[49m\u001B[43m.\u001B[49m\u001B[43mmean\u001B[49m\u001B[43m(\u001B[49m\u001B[43mnp\u001B[49m\u001B[43m.\u001B[49m\u001B[43mdiff\u001B[49m\u001B[43m(\u001B[49m\u001B[43mtime_array\u001B[49m\u001B[43m)\u001B[49m\u001B[43m)\u001B[49m\u001B[43m)\u001B[49m\n\u001B[32m     93\u001B[39m     train_val, test = ms.train_test_split(\n\u001B[32m     94\u001B[39m         time_array.values,\n\u001B[32m     95\u001B[39m         test_size=p[-\u001B[32m1\u001B[39m],\n\u001B[32m     96\u001B[39m         shuffle=shuffle,\n\u001B[32m     97\u001B[39m         random_state=seed,\n\u001B[32m     98\u001B[39m     )\n\u001B[32m    100\u001B[39m     train_val = train_val[:-gap_idx]\n",
      "\u001B[31mValueError\u001B[39m: cannot convert float NaN to integer"
     ]
    }
   ],
   "execution_count": 6
  },
  {
   "metadata": {},
   "cell_type": "code",
   "outputs": [],
   "execution_count": null,
   "source": "",
   "id": "22840575f3d638d7"
  }
 ],
 "metadata": {
  "kernelspec": {
   "display_name": "Python 3",
   "language": "python",
   "name": "python3"
  },
  "language_info": {
   "codemirror_mode": {
    "name": "ipython",
    "version": 2
   },
   "file_extension": ".py",
   "mimetype": "text/x-python",
   "name": "python",
   "nbconvert_exporter": "python",
   "pygments_lexer": "ipython2",
   "version": "2.7.6"
  }
 },
 "nbformat": 4,
 "nbformat_minor": 5
}
