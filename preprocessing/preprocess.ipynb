{
 "cells": [
  {
   "cell_type": "code",
   "id": "initial_id",
   "metadata": {
    "collapsed": true,
    "ExecuteTime": {
     "end_time": "2025-04-16T10:45:40.924546Z",
     "start_time": "2025-04-16T10:45:40.922913Z"
    }
   },
   "source": [
    "import pandas as pd\n",
    "import numpy as np\n",
    "import os"
   ],
   "outputs": [],
   "execution_count": 130
  },
  {
   "metadata": {
    "ExecuteTime": {
     "end_time": "2025-04-16T10:29:42.826625Z",
     "start_time": "2025-04-16T10:29:42.779356Z"
    }
   },
   "cell_type": "code",
   "source": [
    "df = pd.read_csv(\"/home/furkan-dev/Furkan/PCPP/data/cosmo-e.csv\")\n",
    "df = df.iloc[2:].reset_index(drop=True)"
   ],
   "id": "4f1a34cbb411f7f4",
   "outputs": [],
   "execution_count": 115
  },
  {
   "metadata": {
    "ExecuteTime": {
     "end_time": "2025-04-16T10:43:49.640570Z",
     "start_time": "2025-04-16T10:43:49.634720Z"
    }
   },
   "cell_type": "code",
   "source": [
    "df['forecast_reference_time'] = pd.to_datetime(df['time'], format='%Y%m%d %H:%M')\n",
    "df['t'] = df['leadtime'].str.split(':').str[0].astype(float)  # Extract hours"
   ],
   "id": "dae5aed0dbedb2c4",
   "outputs": [],
   "execution_count": 116
  },
  {
   "metadata": {
    "ExecuteTime": {
     "end_time": "2025-04-16T10:43:55.208526Z",
     "start_time": "2025-04-16T10:43:55.206147Z"
    }
   },
   "cell_type": "code",
   "source": [
    "result = pd.DataFrame({\n",
    "    'station': df['stn'],\n",
    "    'forecast_reference_time': df['forecast_reference_time'],\n",
    "    't': df['t']\n",
    "})"
   ],
   "id": "da246f352a922178",
   "outputs": [],
   "execution_count": 117
  },
  {
   "metadata": {
    "ExecuteTime": {
     "end_time": "2025-04-16T10:44:03.055691Z",
     "start_time": "2025-04-16T10:44:03.051977Z"
    }
   },
   "cell_type": "code",
   "source": [
    "def process_variable(df, variable_prefix):\n",
    "    # Find all columns for this variable\n",
    "    cols = [col for col in df.columns if col.startswith(variable_prefix)]\n",
    "\n",
    "    # Convert to numeric, replacing -999 with NaN\n",
    "    for col in cols:\n",
    "        df[col] = pd.to_numeric(df[col], errors='coerce')\n",
    "        df.loc[df[col] == -999.0, col] = np.nan\n",
    "\n",
    "    # Calculate and return ensemble mean\n",
    "    return df[cols].mean(axis=1)"
   ],
   "id": "57b7490f6fd8afda",
   "outputs": [],
   "execution_count": 118
  },
  {
   "metadata": {
    "ExecuteTime": {
     "end_time": "2025-04-16T10:44:09.353217Z",
     "start_time": "2025-04-16T10:44:09.304434Z"
    }
   },
   "cell_type": "code",
   "source": [
    "result['coe:air_temperature_ensavg'] = process_variable(df, 'T_2M')\n",
    "result['coe:relative_humidity_ensavg'] = process_variable(df, 'RELHUM_2M')"
   ],
   "id": "367ded8fd9310abc",
   "outputs": [],
   "execution_count": 119
  },
  {
   "metadata": {
    "ExecuteTime": {
     "end_time": "2025-04-16T10:44:42.142503Z",
     "start_time": "2025-04-16T10:44:42.140181Z"
    }
   },
   "cell_type": "code",
   "source": "result['coe:surface_air_pressure_ensavg'] = 1013.25 # bunu değiştirmeyi unutma",
   "id": "df135b5ac2d46763",
   "outputs": [],
   "execution_count": 120
  },
  {
   "metadata": {
    "ExecuteTime": {
     "end_time": "2025-04-16T10:44:49.400763Z",
     "start_time": "2025-04-16T10:44:49.398096Z"
    }
   },
   "cell_type": "code",
   "source": [
    "def calculate_dewpoint(T, RH):\n",
    "    if pd.isna(T) or pd.isna(RH) or RH <= 0:\n",
    "        return np.nan\n",
    "    a = 17.27\n",
    "    b = 237.7\n",
    "    alpha = ((a * T) / (b + T)) + np.log(RH/100.0)\n",
    "    return (b * alpha) / (a - alpha)"
   ],
   "id": "56266cfc17853818",
   "outputs": [],
   "execution_count": 121
  },
  {
   "metadata": {
    "ExecuteTime": {
     "end_time": "2025-04-16T10:44:56.157316Z",
     "start_time": "2025-04-16T10:44:56.133338Z"
    }
   },
   "cell_type": "code",
   "source": [
    "result['coe:dew_point_temperature_ensavg'] = result.apply(\n",
    "    lambda row: calculate_dewpoint(\n",
    "        row['coe:air_temperature_ensavg'],\n",
    "        row['coe:relative_humidity_ensavg']\n",
    "    ),\n",
    "    axis=1\n",
    ")"
   ],
   "id": "4178430cea2ca976",
   "outputs": [],
   "execution_count": 122
  },
  {
   "metadata": {
    "ExecuteTime": {
     "end_time": "2025-04-16T10:45:01.085156Z",
     "start_time": "2025-04-16T10:45:01.082689Z"
    }
   },
   "cell_type": "code",
   "source": [
    "result['coe:dew_point_depression_ensavg'] = (\n",
    "    result['coe:air_temperature_ensavg'] -\n",
    "    result['coe:dew_point_temperature_ensavg']\n",
    ")"
   ],
   "id": "e45e962994803635",
   "outputs": [],
   "execution_count": 123
  },
  {
   "metadata": {
    "ExecuteTime": {
     "end_time": "2025-04-16T10:45:06.341270Z",
     "start_time": "2025-04-16T10:45:06.339100Z"
    }
   },
   "cell_type": "code",
   "source": [
    "def calculate_mixing_ratio(T_d, P):\n",
    "    if pd.isna(T_d) or pd.isna(P):\n",
    "        return np.nan\n",
    "    a = 17.368\n",
    "    b = 238.83\n",
    "    c = 6.107\n",
    "    e = c * np.exp((a * T_d) / (b + T_d))\n",
    "    return 622.0 * (e / (P - e))"
   ],
   "id": "d0a91c5dfec1f376",
   "outputs": [],
   "execution_count": 124
  },
  {
   "metadata": {
    "ExecuteTime": {
     "end_time": "2025-04-16T10:45:11.352941Z",
     "start_time": "2025-04-16T10:45:11.328109Z"
    }
   },
   "cell_type": "code",
   "source": [
    "result['coe:water_vapor_mixing_ratio_ensavg'] = result.apply(\n",
    "    lambda row: calculate_mixing_ratio(\n",
    "        row['coe:dew_point_temperature_ensavg'],\n",
    "        row['coe:surface_air_pressure_ensavg']\n",
    "    ),\n",
    "    axis=1\n",
    ")"
   ],
   "id": "131694482451832f",
   "outputs": [],
   "execution_count": 125
  },
  {
   "metadata": {
    "ExecuteTime": {
     "end_time": "2025-04-16T10:45:19.250447Z",
     "start_time": "2025-04-16T10:45:19.245644Z"
    }
   },
   "cell_type": "code",
   "source": [
    "result['time:cos_hourofday'] = np.cos(2 * np.pi * result['forecast_reference_time'].dt.hour / 24)\n",
    "result['time:sin_hourofday'] = np.sin(2 * np.pi * result['forecast_reference_time'].dt.hour / 24)\n",
    "result['time:cos_dayofyear'] = np.cos(2 * np.pi * result['forecast_reference_time'].dt.dayofyear / 365)\n",
    "result['time:sin_dayofyear'] = np.sin(2 * np.pi * result['forecast_reference_time'].dt.dayofyear / 365)\n"
   ],
   "id": "634b77ea34bd1528",
   "outputs": [],
   "execution_count": 126
  },
  {
   "metadata": {
    "ExecuteTime": {
     "end_time": "2025-04-16T10:45:24.479175Z",
     "start_time": "2025-04-16T10:45:24.476896Z"
    }
   },
   "cell_type": "code",
   "source": "result['coe:leadtime'] = result['t']",
   "id": "901c55ccb34152f7",
   "outputs": [],
   "execution_count": 127
  },
  {
   "metadata": {
    "ExecuteTime": {
     "end_time": "2025-04-16T10:45:29.869352Z",
     "start_time": "2025-04-16T10:45:29.859279Z"
    }
   },
   "cell_type": "code",
   "source": "ds = result.set_index(['station', 'forecast_reference_time', 't']).to_xarray()",
   "id": "b415808f3b71adfe",
   "outputs": [],
   "execution_count": 128
  },
  {
   "metadata": {
    "ExecuteTime": {
     "end_time": "2025-04-16T10:45:44.446469Z",
     "start_time": "2025-04-16T10:45:44.444449Z"
    }
   },
   "cell_type": "code",
   "source": [
    "if not os.path.exists('data'):\n",
    "    os.makedirs('data')"
   ],
   "id": "f2ffe50d7a7535c5",
   "outputs": [],
   "execution_count": 131
  },
  {
   "metadata": {
    "ExecuteTime": {
     "end_time": "2025-04-16T10:46:07.293078Z",
     "start_time": "2025-04-16T10:46:07.116115Z"
    }
   },
   "cell_type": "code",
   "source": "ds.to_zarr('data/features.zarr')",
   "id": "9cecde55fec9e4",
   "outputs": [
    {
     "name": "stderr",
     "output_type": "stream",
     "text": [
      "/home/furkan-dev/.cache/pypoetry/virtualenvs/pcpp-dYg-xHQg-py3.12/lib/python3.12/site-packages/zarr/codecs/vlen_utf8.py:44: UserWarning: The codec `vlen-utf8` is currently not part in the Zarr format 3 specification. It may not be supported by other zarr implementations and may change in the future.\n",
      "  return cls(**configuration_parsed)\n",
      "/home/furkan-dev/.cache/pypoetry/virtualenvs/pcpp-dYg-xHQg-py3.12/lib/python3.12/site-packages/zarr/core/array.py:3989: UserWarning: The dtype `StringDType()` is currently not part in the Zarr format 3 specification. It may not be supported by other zarr implementations and may change in the future.\n",
      "  meta = AsyncArray._create_metadata_v3(\n",
      "/home/furkan-dev/.cache/pypoetry/virtualenvs/pcpp-dYg-xHQg-py3.12/lib/python3.12/site-packages/zarr/codecs/vlen_utf8.py:44: UserWarning: The codec `vlen-utf8` is currently not part in the Zarr format 3 specification. It may not be supported by other zarr implementations and may change in the future.\n",
      "  return cls(**configuration_parsed)\n",
      "/home/furkan-dev/.cache/pypoetry/virtualenvs/pcpp-dYg-xHQg-py3.12/lib/python3.12/site-packages/zarr/api/asynchronous.py:203: UserWarning: Consolidated metadata is currently not part in the Zarr format 3 specification. It may not be supported by other zarr implementations and may change in the future.\n",
      "  warnings.warn(\n"
     ]
    },
    {
     "data": {
      "text/plain": [
       "<xarray.backends.zarr.ZarrStore at 0x720d30031240>"
      ]
     },
     "execution_count": 133,
     "metadata": {},
     "output_type": "execute_result"
    }
   ],
   "execution_count": 133
  },
  {
   "metadata": {
    "ExecuteTime": {
     "end_time": "2025-04-16T10:46:21.534322Z",
     "start_time": "2025-04-16T10:46:21.527520Z"
    }
   },
   "cell_type": "code",
   "source": "print(result.head())",
   "id": "bd448bb7b176819",
   "outputs": [
    {
     "name": "stdout",
     "output_type": "stream",
     "text": [
      "  station forecast_reference_time     t  coe:air_temperature_ensavg  \\\n",
      "0     ARO     2025-04-15 12:00:00   0.0                    7.066667   \n",
      "1     ARO     2025-04-15 18:00:00   6.0                    6.766667   \n",
      "2     ARO     2025-04-16 00:00:00  12.0                    5.171429   \n",
      "3     ARO     2025-04-16 06:00:00  18.0                    6.261905   \n",
      "4     ARO     2025-04-16 12:00:00  24.0                   11.200000   \n",
      "\n",
      "   coe:relative_humidity_ensavg  coe:surface_air_pressure_ensavg  \\\n",
      "0                     63.323810                          1013.25   \n",
      "1                     59.123810                          1013.25   \n",
      "2                     62.285714                          1013.25   \n",
      "3                     57.923810                          1013.25   \n",
      "4                     41.466667                          1013.25   \n",
      "\n",
      "   coe:dew_point_temperature_ensavg  coe:dew_point_depression_ensavg  \\\n",
      "0                          0.575254                         6.491413   \n",
      "1                         -0.652189                         7.418856   \n",
      "2                         -1.446119                         6.617547   \n",
      "3                         -1.406039                         7.667943   \n",
      "4                         -1.411505                        12.611505   \n",
      "\n",
      "   coe:water_vapor_mixing_ratio_ensavg  time:cos_hourofday  \\\n",
      "0                             3.933360       -1.000000e+00   \n",
      "1                             3.595429       -1.836970e-16   \n",
      "2                             3.390882        1.000000e+00   \n",
      "3                             3.400954        6.123234e-17   \n",
      "4                             3.399579       -1.000000e+00   \n",
      "\n",
      "   time:sin_hourofday  time:cos_dayofyear  time:sin_dayofyear  coe:leadtime  \n",
      "0        1.224647e-16           -0.234491            0.972118           0.0  \n",
      "1       -1.000000e+00           -0.234491            0.972118           6.0  \n",
      "2        0.000000e+00           -0.251190            0.967938          12.0  \n",
      "3        1.000000e+00           -0.251190            0.967938          18.0  \n",
      "4        1.224647e-16           -0.251190            0.967938          24.0  \n"
     ]
    }
   ],
   "execution_count": 134
  },
  {
   "metadata": {},
   "cell_type": "code",
   "outputs": [],
   "execution_count": null,
   "source": "",
   "id": "6375187a23ff73c9"
  }
 ],
 "metadata": {
  "kernelspec": {
   "display_name": "Python 3",
   "language": "python",
   "name": "python3"
  },
  "language_info": {
   "codemirror_mode": {
    "name": "ipython",
    "version": 2
   },
   "file_extension": ".py",
   "mimetype": "text/x-python",
   "name": "python",
   "nbconvert_exporter": "python",
   "pygments_lexer": "ipython2",
   "version": "2.7.6"
  }
 },
 "nbformat": 4,
 "nbformat_minor": 5
}
