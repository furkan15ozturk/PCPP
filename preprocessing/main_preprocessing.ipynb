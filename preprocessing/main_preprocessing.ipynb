{
 "cells": [
  {
   "cell_type": "code",
   "id": "initial_id",
   "metadata": {
    "collapsed": true,
    "ExecuteTime": {
     "end_time": "2025-04-20T11:01:59.660782Z",
     "start_time": "2025-04-20T11:01:58.455145Z"
    }
   },
   "source": [
    "import json\n",
    "import yaml\n",
    "from pathlib import Path\n",
    "import logging\n",
    "import sys\n",
    "\n",
    "import xarray as xr\n",
    "import pandas as pd\n",
    "import numpy as np"
   ],
   "outputs": [],
   "execution_count": 1
  },
  {
   "metadata": {
    "ExecuteTime": {
     "end_time": "2025-04-20T11:02:05.046155Z",
     "start_time": "2025-04-20T11:02:05.038217Z"
    }
   },
   "cell_type": "code",
   "source": [
    "logging.basicConfig(\n",
    "    level=logging.INFO,\n",
    "    format=\"%(asctime)s %(levelname)-8s [%(filename)s:%(lineno)d] %(message)s\",\n",
    "    datefmt=\"%Y-%m-%d %H:%M:%S\",\n",
    "    handlers=[logging.StreamHandler(sys.stdout)]\n",
    ")\n",
    "\n",
    "LOGGER = logging.getLogger(__name__)"
   ],
   "id": "5b1c47861d608ec9",
   "outputs": [],
   "execution_count": 2
  },
  {
   "metadata": {
    "ExecuteTime": {
     "end_time": "2025-04-20T11:02:10.917025Z",
     "start_time": "2025-04-20T11:02:10.893826Z"
    }
   },
   "cell_type": "code",
   "source": [
    "def filter_stations(targets, threshold=0.9):\n",
    "    \"\"\"Only keep stations with completeness above a certain threshold.\"\"\"\n",
    "    dims = [\"forecast_reference_time\", \"t\"]\n",
    "    n_stations = len(targets.station.values)\n",
    "    ds = targets.stack(s=dims).to_array(\"var\")\n",
    "    missing = np.isnan(ds).sum(\"var\")\n",
    "    completeness = (missing == 0).sum(\"s\") / len(ds.s)\n",
    "    targets = targets.where(completeness > threshold, drop=True)\n",
    "    n_bad_stations = n_stations - len(targets.station.values)\n",
    "    LOGGER.info(f\"Filtered out {n_bad_stations} out of {n_stations}\")\n",
    "    return targets"
   ],
   "id": "1e73ec2e2342009b",
   "outputs": [],
   "execution_count": 3
  },
  {
   "metadata": {
    "ExecuteTime": {
     "end_time": "2025-04-20T11:02:38.832806Z",
     "start_time": "2025-04-20T11:02:38.821711Z"
    }
   },
   "cell_type": "code",
   "source": [
    "def reshape(features: xr.Dataset, targets: xr.Dataset) -> tuple[xr.DataArray]:\n",
    "    \"\"\"Reshape data to 2-d (sample, variable) tensors.\"\"\"\n",
    "    dims = [\"forecast_reference_time\", \"t\", \"station\"]\n",
    "    x = (\n",
    "        features.to_array(\"var\")\n",
    "        .stack(s=dims, create_index=False)\n",
    "        .transpose(\"s\", ..., \"var\")\n",
    "    )\n",
    "    y = (\n",
    "        targets.to_array(\"var\")\n",
    "        .stack(s=dims, create_index=False)\n",
    "        .transpose(\"s\", ..., \"var\")\n",
    "    )\n",
    "    LOGGER.info(f\"Reshaped: x -> {dict(x.sizes)} and y -> {dict(y.sizes)}\")\n",
    "    return x, y"
   ],
   "id": "c4921a6a15b8a67f",
   "outputs": [],
   "execution_count": 4
  },
  {
   "metadata": {
    "ExecuteTime": {
     "end_time": "2025-04-20T11:02:44.600784Z",
     "start_time": "2025-04-20T11:02:44.589419Z"
    }
   },
   "cell_type": "code",
   "source": [
    "def drop_missing(x: xr.DataArray, y: xr.DataArray) -> tuple[xr.DataArray]:\n",
    "    \"\"\"Only keep complete (all features and targets available) samples.\"\"\"\n",
    "    n_samples = len(x.s.values)\n",
    "    mask_x_dims = [dim for dim in x.dims if dim != \"s\"]\n",
    "    mask_y_dims = [dim for dim in y.dims if dim != \"s\"]\n",
    "    x = x[np.isfinite(y).all(dim=mask_y_dims)]\n",
    "    y = y[np.isfinite(y).all(dim=mask_y_dims)]\n",
    "    y = y[np.isfinite(x).all(dim=mask_x_dims)]\n",
    "    x = x[np.isfinite(x).all(dim=mask_x_dims)]\n",
    "    n_incomplete_samples = n_samples - len(x.s.values)\n",
    "    LOGGER.info(f\"Dropped {n_incomplete_samples} incomplete samples out of {n_samples}\")\n",
    "    return x, y"
   ],
   "id": "5ce8c78a475ab3c8",
   "outputs": [],
   "execution_count": 5
  },
  {
   "metadata": {
    "ExecuteTime": {
     "end_time": "2025-04-20T11:04:25.035374Z",
     "start_time": "2025-04-20T11:04:25.021346Z"
    }
   },
   "cell_type": "code",
   "source": [
    "inputs = {\n",
    "    \"features\": \"data/features.zarr\",  # Dosya yollarınızı burada güncelleyin\n",
    "    \"targets\": \"data/targets.zarr\"\n",
    "}\n",
    "\n",
    "outputs = {\n",
    "    \"x\": \"filtered_and_preprocessed_data/x.nc\",\n",
    "    \"y\": \"filtered_and_preprocessed_data/y.nc\",\n",
    "    \"stations_list\": \"data/stations_list.json\"\n",
    "}"
   ],
   "id": "2c2cdea77efa767d",
   "outputs": [],
   "execution_count": 10
  },
  {
   "metadata": {
    "ExecuteTime": {
     "end_time": "2025-04-20T11:04:32.162915Z",
     "start_time": "2025-04-20T11:04:32.157032Z"
    }
   },
   "cell_type": "code",
   "source": [
    "try:\n",
    "    with open(\"config/config.yaml\", \"r\") as f:\n",
    "        config = yaml.safe_load(f)\n",
    "except FileNotFoundError:\n",
    "    # Manuel yapılandırma\n",
    "    config = {\n",
    "        \"features\": [\n",
    "            \"coe_air_temperature_ensavg\",\n",
    "            \"coe_dew_point_temperature_ensavg\",\n",
    "            \"coe_dew_point_depression_ensavg\",\n",
    "            \"coe_surface_air_pressure_ensavg\",\n",
    "            \"coe_relative_humidity_ensavg\",\n",
    "            \"coe_water_vapor_mixing_ratio_ensavg\",\n",
    "            \"coe_leadtime\",\n",
    "            \"time_cos_hourofday\",\n",
    "            \"time_sin_hourofday\",\n",
    "            \"time_cos_dayofyear\",\n",
    "            \"time_sin_dayofyear\"\n",
    "        ],\n",
    "        \"targets\": [\n",
    "            \"obs_air_temperature\",\n",
    "            \"obs_dew_point_temperature\",\n",
    "            \"obs_surface_air_pressure\",\n",
    "            \"obs_relative_humidity\",\n",
    "            \"obs_water_vapor_mixing_ratio\"\n",
    "        ]\n",
    "    }"
   ],
   "id": "44d2cceda1106a1f",
   "outputs": [],
   "execution_count": 12
  },
  {
   "metadata": {
    "ExecuteTime": {
     "end_time": "2025-04-20T11:04:33.304962Z",
     "start_time": "2025-04-20T11:04:33.287912Z"
    }
   },
   "cell_type": "code",
   "source": [
    "LOGGER.info(f\"Inputs: {inputs}\")\n",
    "LOGGER.info(f\"Outputs: {outputs}\")"
   ],
   "id": "50cab2ce67eff66f",
   "outputs": [
    {
     "name": "stdout",
     "output_type": "stream",
     "text": [
      "2025-04-20 14:04:33 INFO     [2264915338.py:1] Inputs: {'features': 'data/features.zarr', 'targets': 'data/targets.zarr'}\n",
      "2025-04-20 14:04:33 INFO     [2264915338.py:2] Outputs: {'x': 'filtered_and_preprocessed_data/x.nc', 'y': 'filtered_and_preprocessed_data/y.nc', 'stations_list': 'data/stations_list.json'}\n"
     ]
    }
   ],
   "execution_count": 13
  },
  {
   "metadata": {
    "ExecuteTime": {
     "end_time": "2025-04-20T11:06:16.507956Z",
     "start_time": "2025-04-20T11:06:16.308851Z"
    }
   },
   "cell_type": "code",
   "source": [
    "features = xr.open_zarr(inputs[\"features\"])\n",
    "targets = xr.open_zarr(inputs[\"targets\"])"
   ],
   "id": "fd5b30378ce3f844",
   "outputs": [
    {
     "name": "stderr",
     "output_type": "stream",
     "text": [
      "D:\\ML2025\\PCPP\\.venv\\Lib\\site-packages\\zarr\\codecs\\vlen_utf8.py:44: UserWarning: The codec `vlen-utf8` is currently not part in the Zarr format 3 specification. It may not be supported by other zarr implementations and may change in the future.\n",
      "  return cls(**configuration_parsed)\n",
      "D:\\ML2025\\PCPP\\.venv\\Lib\\site-packages\\zarr\\codecs\\vlen_utf8.py:44: UserWarning: The codec `vlen-utf8` is currently not part in the Zarr format 3 specification. It may not be supported by other zarr implementations and may change in the future.\n",
      "  return cls(**configuration_parsed)\n"
     ]
    }
   ],
   "execution_count": 16
  },
  {
   "metadata": {
    "ExecuteTime": {
     "end_time": "2025-04-20T11:06:28.111837Z",
     "start_time": "2025-04-20T11:06:28.055380Z"
    }
   },
   "cell_type": "code",
   "source": [
    "LOGGER.info(\"Features variables:\")\n",
    "LOGGER.info(list(features.data_vars))\n",
    "LOGGER.info(\"Features coords:\")\n",
    "LOGGER.info(list(features.coords))\n",
    "\n",
    "LOGGER.info(\"Targets variables:\")\n",
    "LOGGER.info(list(targets.data_vars))\n",
    "LOGGER.info(\"Targets coords:\")\n",
    "LOGGER.info(list(targets.coords))"
   ],
   "id": "45450ebe2e844c9a",
   "outputs": [
    {
     "name": "stdout",
     "output_type": "stream",
     "text": [
      "2025-04-20 14:06:28 INFO     [1950880206.py:1] Features variables:\n",
      "2025-04-20 14:06:28 INFO     [1950880206.py:2] ['coe_dew_point_depression_ensavg', 'coe_air_temperature_ensavg', 'coe_dew_point_temperature_ensavg', 'coe_dd_10m_ensavg', 'coe_ff_10m_ensavg', 'coe_dursun_ensavg', 'coe_surface_air_pressure_ensavg', 'coe_relhum_2m_ensavg', 'coe_leadtime', 'coe_water_vapor_mixing_ratio_ensavg', 'coe_t_2m_ensavg', 'coe_tot_prec_ensavg', 'coe_relative_humidity_ensavg', 'time_sin_dayofyear', 'time_cos_hourofday', 'time_cos_dayofyear', 'time_sin_hourofday']\n",
      "2025-04-20 14:06:28 INFO     [1950880206.py:3] Features coords:\n",
      "2025-04-20 14:06:28 INFO     [1950880206.py:4] ['forecast_reference_time', 'elevation', 'longitude', 'latitude', 'model_height_difference', 'grid_idx', 'station', 't']\n",
      "2025-04-20 14:06:28 INFO     [1950880206.py:6] Targets variables:\n",
      "2025-04-20 14:06:28 INFO     [1950880206.py:7] ['obs_air_temperature', 'obs_relative_humidity', 'obs_dew_point_temperature', 'obs_surface_air_pressure', 'obs_water_vapor_mixing_ratio']\n",
      "2025-04-20 14:06:28 INFO     [1950880206.py:8] Targets coords:\n",
      "2025-04-20 14:06:28 INFO     [1950880206.py:9] ['elevation', 'latitude', 'grid_idx', 'forecast_reference_time', 'longitude', 'model_height_difference', 'station', 't']\n"
     ]
    }
   ],
   "execution_count": 17
  },
  {
   "metadata": {
    "ExecuteTime": {
     "end_time": "2025-04-20T11:06:37.651128Z",
     "start_time": "2025-04-20T11:06:37.632547Z"
    }
   },
   "cell_type": "code",
   "source": [
    "model_height_difference = None\n",
    "if \"model_height_difference\" in features.coords:\n",
    "    model_height_difference = features[\"model_height_difference\"]\n",
    "    LOGGER.info(\"model_height_difference features.coords'dan alındı\")\n",
    "elif \"model_height_difference\" in targets.coords:\n",
    "    model_height_difference = targets[\"model_height_difference\"]\n",
    "    LOGGER.info(\"model_height_difference targets.coords'dan alındı\")"
   ],
   "id": "af0dc3de0a8bde8e",
   "outputs": [
    {
     "name": "stdout",
     "output_type": "stream",
     "text": [
      "2025-04-20 14:06:37 INFO     [213958751.py:4] model_height_difference features.coords'dan alındı\n"
     ]
    }
   ],
   "execution_count": 18
  },
  {
   "metadata": {
    "ExecuteTime": {
     "end_time": "2025-04-20T11:06:46.274805Z",
     "start_time": "2025-04-20T11:06:46.255805Z"
    }
   },
   "cell_type": "code",
   "source": [
    "available_features = []\n",
    "for feature in config[\"features\"]:\n",
    "    # Değişkeni farklı formatlarda ara\n",
    "    possibilities = [\n",
    "        feature,\n",
    "        feature.replace(\"_\", \":\"),\n",
    "        feature.replace(\":\", \"_\")\n",
    "    ]\n",
    "\n",
    "    found = False\n",
    "    for possibility in possibilities:\n",
    "        if possibility in features.data_vars:\n",
    "            available_features.append(possibility)\n",
    "            found = True\n",
    "            break\n",
    "        elif possibility in features.coords:\n",
    "            # Koordinat değişkeni olabilir\n",
    "            pass\n",
    "\n",
    "    if not found:\n",
    "        LOGGER.warning(f\"Feature bulunamadı: {feature}\")"
   ],
   "id": "a1b8d22d5b019f4d",
   "outputs": [],
   "execution_count": 19
  },
  {
   "metadata": {
    "ExecuteTime": {
     "end_time": "2025-04-20T11:06:54.320273Z",
     "start_time": "2025-04-20T11:06:54.302017Z"
    }
   },
   "cell_type": "code",
   "source": [
    "LOGGER.info(f\"Bulunan features: {available_features}\")\n",
    "if available_features:\n",
    "    features = features[available_features]\n",
    "else:\n",
    "    LOGGER.error(\"Hiçbir feature bulunamadı!\")"
   ],
   "id": "358b2a07dd0d771",
   "outputs": [
    {
     "name": "stdout",
     "output_type": "stream",
     "text": [
      "2025-04-20 14:06:54 INFO     [772157482.py:1] Bulunan features: ['coe_air_temperature_ensavg', 'coe_dew_point_temperature_ensavg', 'coe_dew_point_depression_ensavg', 'coe_surface_air_pressure_ensavg', 'coe_relative_humidity_ensavg', 'coe_water_vapor_mixing_ratio_ensavg', 'coe_leadtime', 'time_cos_hourofday', 'time_sin_hourofday', 'time_cos_dayofyear', 'time_sin_dayofyear']\n"
     ]
    }
   ],
   "execution_count": 20
  },
  {
   "metadata": {
    "ExecuteTime": {
     "end_time": "2025-04-20T11:07:04.653805Z",
     "start_time": "2025-04-20T11:07:04.641341Z"
    }
   },
   "cell_type": "code",
   "source": [
    "available_targets = []\n",
    "for target in config[\"targets\"]:\n",
    "    # Değişkeni farklı formatlarda ara\n",
    "    possibilities = [\n",
    "        target,\n",
    "        target.replace(\"_\", \":\"),\n",
    "        target.replace(\":\", \"_\")\n",
    "    ]\n",
    "\n",
    "    found = False\n",
    "    for possibility in possibilities:\n",
    "        if possibility in targets.data_vars:\n",
    "            available_targets.append(possibility)\n",
    "            found = True\n",
    "            break\n",
    "\n",
    "    if not found:\n",
    "        LOGGER.warning(f\"Target bulunamadı: {target}\")"
   ],
   "id": "c21ee31d5df6778d",
   "outputs": [],
   "execution_count": 21
  },
  {
   "metadata": {
    "ExecuteTime": {
     "end_time": "2025-04-20T11:07:10.983053Z",
     "start_time": "2025-04-20T11:07:10.968100Z"
    }
   },
   "cell_type": "code",
   "source": [
    "LOGGER.info(f\"Bulunan targets: {available_targets}\")\n",
    "if available_targets:\n",
    "    targets = targets[available_targets]\n",
    "else:\n",
    "    LOGGER.error(\"Hiçbir target bulunamadı!\")"
   ],
   "id": "5b23230f583eae5a",
   "outputs": [
    {
     "name": "stdout",
     "output_type": "stream",
     "text": [
      "2025-04-20 14:07:10 INFO     [4208383790.py:1] Bulunan targets: ['obs_air_temperature', 'obs_dew_point_temperature', 'obs_surface_air_pressure', 'obs_relative_humidity', 'obs_water_vapor_mixing_ratio']\n"
     ]
    }
   ],
   "execution_count": 22
  },
  {
   "metadata": {
    "ExecuteTime": {
     "end_time": "2025-04-20T11:07:21.895311Z",
     "start_time": "2025-04-20T11:07:21.774775Z"
    }
   },
   "cell_type": "code",
   "source": [
    "if model_height_difference is not None:\n",
    "    targets = targets.assign_coords(model_height_difference=model_height_difference)\n",
    "\n",
    "# owner_id kontrolü - eğer yoksa ekleme yapabilirsiniz\n",
    "if \"owner_id\" in targets.coords:\n",
    "    targets = targets.where(targets.owner_id == 1, drop=True).load()\n",
    "else:\n",
    "    LOGGER.warning(\"owner_id koordinatı bulunamadı - hepsi seçilecek\")\n",
    "    # owner_id yoksa ekleme yapabilirsiniz\n",
    "    targets = targets.assign_coords(owner_id=(\"station\", np.ones(len(targets.station), dtype=int))).load()"
   ],
   "id": "186c886e1c7d4390",
   "outputs": [
    {
     "name": "stdout",
     "output_type": "stream",
     "text": [
      "2025-04-20 14:07:21 WARNING  [4259843770.py:8] owner_id koordinatı bulunamadı - hepsi seçilecek\n"
     ]
    }
   ],
   "execution_count": 23
  },
  {
   "metadata": {
    "ExecuteTime": {
     "end_time": "2025-04-20T11:07:31.475140Z",
     "start_time": "2025-04-20T11:07:31.331579Z"
    }
   },
   "cell_type": "code",
   "source": [
    "try:\n",
    "    targets = filter_stations(targets)\n",
    "    features = features.reindex_like(targets).load()\n",
    "except Exception as e:\n",
    "    LOGGER.error(f\"İstasyonları filtrelerken hata: {e}\")\n",
    "    LOGGER.info(\"Filtreleme adımı atlanıyor\")"
   ],
   "id": "c4b0315aa890c84",
   "outputs": [
    {
     "name": "stdout",
     "output_type": "stream",
     "text": [
      "2025-04-20 14:07:31 INFO     [1796570519.py:10] Filtered out 183 out of 183\n"
     ]
    }
   ],
   "execution_count": 24
  },
  {
   "metadata": {
    "ExecuteTime": {
     "end_time": "2025-04-20T11:07:42.905611Z",
     "start_time": "2025-04-20T11:07:42.829747Z"
    }
   },
   "cell_type": "code",
   "source": [
    "try:\n",
    "    if \"t\" in features.dims and \"t\" in targets.dims:\n",
    "        features = features.isel(t=slice(3, 24, 1))\n",
    "        targets = targets.isel(t=slice(3, 24, 1))\n",
    "        LOGGER.info(\"Leadtime filtrelendi\")\n",
    "    else:\n",
    "        LOGGER.warning(\"t boyutu bulunamadı - filtreleme yapılmadı\")\n",
    "\n",
    "    # Saatleri filtreleme\n",
    "    if \"forecast_reference_time\" in features.dims:\n",
    "        try:\n",
    "            features = features.where(features.forecast_reference_time.dt.hour == 0, drop=True)\n",
    "            targets = targets.where(targets.forecast_reference_time.dt.hour == 0, drop=True)\n",
    "            LOGGER.info(\"Saat filtrelendi\")\n",
    "        except:\n",
    "            LOGGER.warning(\"Saat filtrelenemedi - dt.hour özelliği yok olabilir\")\n",
    "except Exception as e:\n",
    "    LOGGER.error(f\"Zaman dilimleri filtrelerken hata: {e}\")\n",
    "    LOGGER.info(\"Filtreleme adımı atlanıyor\")"
   ],
   "id": "78813fde5f3e5c8c",
   "outputs": [
    {
     "name": "stdout",
     "output_type": "stream",
     "text": [
      "2025-04-20 14:07:42 INFO     [516163430.py:5] Leadtime filtrelendi\n",
      "2025-04-20 14:07:42 INFO     [516163430.py:14] Saat filtrelendi\n"
     ]
    }
   ],
   "execution_count": 25
  },
  {
   "metadata": {
    "ExecuteTime": {
     "end_time": "2025-04-20T11:08:03.503711Z",
     "start_time": "2025-04-20T11:08:03.384702Z"
    }
   },
   "cell_type": "code",
   "source": [
    "features.load()\n",
    "targets.load()"
   ],
   "id": "13c9f2881f9b1723",
   "outputs": [
    {
     "data": {
      "text/plain": [
       "<xarray.Dataset> Size: 184B\n",
       "Dimensions:                       (station: 0, forecast_reference_time: 5, t: 18)\n",
       "Coordinates:\n",
       "    elevation                     (station) float64 0B \n",
       "    latitude                      (station) float64 0B \n",
       "    grid_idx                      (station) float64 0B \n",
       "  * forecast_reference_time       (forecast_reference_time) datetime64[ns] 40B ...\n",
       "    longitude                     (station) float64 0B \n",
       "    model_height_difference       (station) float64 0B \n",
       "  * station                       (station) object 0B \n",
       "  * t                             (t) float64 144B 18.0 24.0 ... 114.0 120.0\n",
       "    owner_id                      (station) int64 0B \n",
       "Data variables:\n",
       "    obs_air_temperature           (station, forecast_reference_time, t) float64 0B ...\n",
       "    obs_dew_point_temperature     (station, forecast_reference_time, t) float64 0B ...\n",
       "    obs_surface_air_pressure      (station, forecast_reference_time, t) float64 0B ...\n",
       "    obs_relative_humidity         (station, forecast_reference_time, t) float64 0B ...\n",
       "    obs_water_vapor_mixing_ratio  (station, forecast_reference_time, t) float64 0B ..."
      ],
      "text/html": [
       "<div><svg style=\"position: absolute; width: 0; height: 0; overflow: hidden\">\n",
       "<defs>\n",
       "<symbol id=\"icon-database\" viewBox=\"0 0 32 32\">\n",
       "<path d=\"M16 0c-8.837 0-16 2.239-16 5v4c0 2.761 7.163 5 16 5s16-2.239 16-5v-4c0-2.761-7.163-5-16-5z\"></path>\n",
       "<path d=\"M16 17c-8.837 0-16-2.239-16-5v6c0 2.761 7.163 5 16 5s16-2.239 16-5v-6c0 2.761-7.163 5-16 5z\"></path>\n",
       "<path d=\"M16 26c-8.837 0-16-2.239-16-5v6c0 2.761 7.163 5 16 5s16-2.239 16-5v-6c0 2.761-7.163 5-16 5z\"></path>\n",
       "</symbol>\n",
       "<symbol id=\"icon-file-text2\" viewBox=\"0 0 32 32\">\n",
       "<path d=\"M28.681 7.159c-0.694-0.947-1.662-2.053-2.724-3.116s-2.169-2.030-3.116-2.724c-1.612-1.182-2.393-1.319-2.841-1.319h-15.5c-1.378 0-2.5 1.121-2.5 2.5v27c0 1.378 1.122 2.5 2.5 2.5h23c1.378 0 2.5-1.122 2.5-2.5v-19.5c0-0.448-0.137-1.23-1.319-2.841zM24.543 5.457c0.959 0.959 1.712 1.825 2.268 2.543h-4.811v-4.811c0.718 0.556 1.584 1.309 2.543 2.268zM28 29.5c0 0.271-0.229 0.5-0.5 0.5h-23c-0.271 0-0.5-0.229-0.5-0.5v-27c0-0.271 0.229-0.5 0.5-0.5 0 0 15.499-0 15.5 0v7c0 0.552 0.448 1 1 1h7v19.5z\"></path>\n",
       "<path d=\"M23 26h-14c-0.552 0-1-0.448-1-1s0.448-1 1-1h14c0.552 0 1 0.448 1 1s-0.448 1-1 1z\"></path>\n",
       "<path d=\"M23 22h-14c-0.552 0-1-0.448-1-1s0.448-1 1-1h14c0.552 0 1 0.448 1 1s-0.448 1-1 1z\"></path>\n",
       "<path d=\"M23 18h-14c-0.552 0-1-0.448-1-1s0.448-1 1-1h14c0.552 0 1 0.448 1 1s-0.448 1-1 1z\"></path>\n",
       "</symbol>\n",
       "</defs>\n",
       "</svg>\n",
       "<style>/* CSS stylesheet for displaying xarray objects in jupyterlab.\n",
       " *\n",
       " */\n",
       "\n",
       ":root {\n",
       "  --xr-font-color0: var(--jp-content-font-color0, rgba(0, 0, 0, 1));\n",
       "  --xr-font-color2: var(--jp-content-font-color2, rgba(0, 0, 0, 0.54));\n",
       "  --xr-font-color3: var(--jp-content-font-color3, rgba(0, 0, 0, 0.38));\n",
       "  --xr-border-color: var(--jp-border-color2, #e0e0e0);\n",
       "  --xr-disabled-color: var(--jp-layout-color3, #bdbdbd);\n",
       "  --xr-background-color: var(--jp-layout-color0, white);\n",
       "  --xr-background-color-row-even: var(--jp-layout-color1, white);\n",
       "  --xr-background-color-row-odd: var(--jp-layout-color2, #eeeeee);\n",
       "}\n",
       "\n",
       "html[theme=\"dark\"],\n",
       "html[data-theme=\"dark\"],\n",
       "body[data-theme=\"dark\"],\n",
       "body.vscode-dark {\n",
       "  --xr-font-color0: rgba(255, 255, 255, 1);\n",
       "  --xr-font-color2: rgba(255, 255, 255, 0.54);\n",
       "  --xr-font-color3: rgba(255, 255, 255, 0.38);\n",
       "  --xr-border-color: #1f1f1f;\n",
       "  --xr-disabled-color: #515151;\n",
       "  --xr-background-color: #111111;\n",
       "  --xr-background-color-row-even: #111111;\n",
       "  --xr-background-color-row-odd: #313131;\n",
       "}\n",
       "\n",
       ".xr-wrap {\n",
       "  display: block !important;\n",
       "  min-width: 300px;\n",
       "  max-width: 700px;\n",
       "}\n",
       "\n",
       ".xr-text-repr-fallback {\n",
       "  /* fallback to plain text repr when CSS is not injected (untrusted notebook) */\n",
       "  display: none;\n",
       "}\n",
       "\n",
       ".xr-header {\n",
       "  padding-top: 6px;\n",
       "  padding-bottom: 6px;\n",
       "  margin-bottom: 4px;\n",
       "  border-bottom: solid 1px var(--xr-border-color);\n",
       "}\n",
       "\n",
       ".xr-header > div,\n",
       ".xr-header > ul {\n",
       "  display: inline;\n",
       "  margin-top: 0;\n",
       "  margin-bottom: 0;\n",
       "}\n",
       "\n",
       ".xr-obj-type,\n",
       ".xr-array-name {\n",
       "  margin-left: 2px;\n",
       "  margin-right: 10px;\n",
       "}\n",
       "\n",
       ".xr-obj-type {\n",
       "  color: var(--xr-font-color2);\n",
       "}\n",
       "\n",
       ".xr-sections {\n",
       "  padding-left: 0 !important;\n",
       "  display: grid;\n",
       "  grid-template-columns: 150px auto auto 1fr 0 20px 0 20px;\n",
       "}\n",
       "\n",
       ".xr-section-item {\n",
       "  display: contents;\n",
       "}\n",
       "\n",
       ".xr-section-item input {\n",
       "  display: inline-block;\n",
       "  opacity: 0;\n",
       "  height: 0;\n",
       "}\n",
       "\n",
       ".xr-section-item input + label {\n",
       "  color: var(--xr-disabled-color);\n",
       "}\n",
       "\n",
       ".xr-section-item input:enabled + label {\n",
       "  cursor: pointer;\n",
       "  color: var(--xr-font-color2);\n",
       "}\n",
       "\n",
       ".xr-section-item input:focus + label {\n",
       "  border: 2px solid var(--xr-font-color0);\n",
       "}\n",
       "\n",
       ".xr-section-item input:enabled + label:hover {\n",
       "  color: var(--xr-font-color0);\n",
       "}\n",
       "\n",
       ".xr-section-summary {\n",
       "  grid-column: 1;\n",
       "  color: var(--xr-font-color2);\n",
       "  font-weight: 500;\n",
       "}\n",
       "\n",
       ".xr-section-summary > span {\n",
       "  display: inline-block;\n",
       "  padding-left: 0.5em;\n",
       "}\n",
       "\n",
       ".xr-section-summary-in:disabled + label {\n",
       "  color: var(--xr-font-color2);\n",
       "}\n",
       "\n",
       ".xr-section-summary-in + label:before {\n",
       "  display: inline-block;\n",
       "  content: \"►\";\n",
       "  font-size: 11px;\n",
       "  width: 15px;\n",
       "  text-align: center;\n",
       "}\n",
       "\n",
       ".xr-section-summary-in:disabled + label:before {\n",
       "  color: var(--xr-disabled-color);\n",
       "}\n",
       "\n",
       ".xr-section-summary-in:checked + label:before {\n",
       "  content: \"▼\";\n",
       "}\n",
       "\n",
       ".xr-section-summary-in:checked + label > span {\n",
       "  display: none;\n",
       "}\n",
       "\n",
       ".xr-section-summary,\n",
       ".xr-section-inline-details {\n",
       "  padding-top: 4px;\n",
       "  padding-bottom: 4px;\n",
       "}\n",
       "\n",
       ".xr-section-inline-details {\n",
       "  grid-column: 2 / -1;\n",
       "}\n",
       "\n",
       ".xr-section-details {\n",
       "  display: none;\n",
       "  grid-column: 1 / -1;\n",
       "  margin-bottom: 5px;\n",
       "}\n",
       "\n",
       ".xr-section-summary-in:checked ~ .xr-section-details {\n",
       "  display: contents;\n",
       "}\n",
       "\n",
       ".xr-array-wrap {\n",
       "  grid-column: 1 / -1;\n",
       "  display: grid;\n",
       "  grid-template-columns: 20px auto;\n",
       "}\n",
       "\n",
       ".xr-array-wrap > label {\n",
       "  grid-column: 1;\n",
       "  vertical-align: top;\n",
       "}\n",
       "\n",
       ".xr-preview {\n",
       "  color: var(--xr-font-color3);\n",
       "}\n",
       "\n",
       ".xr-array-preview,\n",
       ".xr-array-data {\n",
       "  padding: 0 5px !important;\n",
       "  grid-column: 2;\n",
       "}\n",
       "\n",
       ".xr-array-data,\n",
       ".xr-array-in:checked ~ .xr-array-preview {\n",
       "  display: none;\n",
       "}\n",
       "\n",
       ".xr-array-in:checked ~ .xr-array-data,\n",
       ".xr-array-preview {\n",
       "  display: inline-block;\n",
       "}\n",
       "\n",
       ".xr-dim-list {\n",
       "  display: inline-block !important;\n",
       "  list-style: none;\n",
       "  padding: 0 !important;\n",
       "  margin: 0;\n",
       "}\n",
       "\n",
       ".xr-dim-list li {\n",
       "  display: inline-block;\n",
       "  padding: 0;\n",
       "  margin: 0;\n",
       "}\n",
       "\n",
       ".xr-dim-list:before {\n",
       "  content: \"(\";\n",
       "}\n",
       "\n",
       ".xr-dim-list:after {\n",
       "  content: \")\";\n",
       "}\n",
       "\n",
       ".xr-dim-list li:not(:last-child):after {\n",
       "  content: \",\";\n",
       "  padding-right: 5px;\n",
       "}\n",
       "\n",
       ".xr-has-index {\n",
       "  font-weight: bold;\n",
       "}\n",
       "\n",
       ".xr-var-list,\n",
       ".xr-var-item {\n",
       "  display: contents;\n",
       "}\n",
       "\n",
       ".xr-var-item > div,\n",
       ".xr-var-item label,\n",
       ".xr-var-item > .xr-var-name span {\n",
       "  background-color: var(--xr-background-color-row-even);\n",
       "  margin-bottom: 0;\n",
       "}\n",
       "\n",
       ".xr-var-item > .xr-var-name:hover span {\n",
       "  padding-right: 5px;\n",
       "}\n",
       "\n",
       ".xr-var-list > li:nth-child(odd) > div,\n",
       ".xr-var-list > li:nth-child(odd) > label,\n",
       ".xr-var-list > li:nth-child(odd) > .xr-var-name span {\n",
       "  background-color: var(--xr-background-color-row-odd);\n",
       "}\n",
       "\n",
       ".xr-var-name {\n",
       "  grid-column: 1;\n",
       "}\n",
       "\n",
       ".xr-var-dims {\n",
       "  grid-column: 2;\n",
       "}\n",
       "\n",
       ".xr-var-dtype {\n",
       "  grid-column: 3;\n",
       "  text-align: right;\n",
       "  color: var(--xr-font-color2);\n",
       "}\n",
       "\n",
       ".xr-var-preview {\n",
       "  grid-column: 4;\n",
       "}\n",
       "\n",
       ".xr-index-preview {\n",
       "  grid-column: 2 / 5;\n",
       "  color: var(--xr-font-color2);\n",
       "}\n",
       "\n",
       ".xr-var-name,\n",
       ".xr-var-dims,\n",
       ".xr-var-dtype,\n",
       ".xr-preview,\n",
       ".xr-attrs dt {\n",
       "  white-space: nowrap;\n",
       "  overflow: hidden;\n",
       "  text-overflow: ellipsis;\n",
       "  padding-right: 10px;\n",
       "}\n",
       "\n",
       ".xr-var-name:hover,\n",
       ".xr-var-dims:hover,\n",
       ".xr-var-dtype:hover,\n",
       ".xr-attrs dt:hover {\n",
       "  overflow: visible;\n",
       "  width: auto;\n",
       "  z-index: 1;\n",
       "}\n",
       "\n",
       ".xr-var-attrs,\n",
       ".xr-var-data,\n",
       ".xr-index-data {\n",
       "  display: none;\n",
       "  background-color: var(--xr-background-color) !important;\n",
       "  padding-bottom: 5px !important;\n",
       "}\n",
       "\n",
       ".xr-var-attrs-in:checked ~ .xr-var-attrs,\n",
       ".xr-var-data-in:checked ~ .xr-var-data,\n",
       ".xr-index-data-in:checked ~ .xr-index-data {\n",
       "  display: block;\n",
       "}\n",
       "\n",
       ".xr-var-data > table {\n",
       "  float: right;\n",
       "}\n",
       "\n",
       ".xr-var-name span,\n",
       ".xr-var-data,\n",
       ".xr-index-name div,\n",
       ".xr-index-data,\n",
       ".xr-attrs {\n",
       "  padding-left: 25px !important;\n",
       "}\n",
       "\n",
       ".xr-attrs,\n",
       ".xr-var-attrs,\n",
       ".xr-var-data,\n",
       ".xr-index-data {\n",
       "  grid-column: 1 / -1;\n",
       "}\n",
       "\n",
       "dl.xr-attrs {\n",
       "  padding: 0;\n",
       "  margin: 0;\n",
       "  display: grid;\n",
       "  grid-template-columns: 125px auto;\n",
       "}\n",
       "\n",
       ".xr-attrs dt,\n",
       ".xr-attrs dd {\n",
       "  padding: 0;\n",
       "  margin: 0;\n",
       "  float: left;\n",
       "  padding-right: 10px;\n",
       "  width: auto;\n",
       "}\n",
       "\n",
       ".xr-attrs dt {\n",
       "  font-weight: normal;\n",
       "  grid-column: 1;\n",
       "}\n",
       "\n",
       ".xr-attrs dt:hover span {\n",
       "  display: inline-block;\n",
       "  background: var(--xr-background-color);\n",
       "  padding-right: 10px;\n",
       "}\n",
       "\n",
       ".xr-attrs dd {\n",
       "  grid-column: 2;\n",
       "  white-space: pre-wrap;\n",
       "  word-break: break-all;\n",
       "}\n",
       "\n",
       ".xr-icon-database,\n",
       ".xr-icon-file-text2,\n",
       ".xr-no-icon {\n",
       "  display: inline-block;\n",
       "  vertical-align: middle;\n",
       "  width: 1em;\n",
       "  height: 1.5em !important;\n",
       "  stroke-width: 0;\n",
       "  stroke: currentColor;\n",
       "  fill: currentColor;\n",
       "}\n",
       "</style><pre class='xr-text-repr-fallback'>&lt;xarray.Dataset&gt; Size: 184B\n",
       "Dimensions:                       (station: 0, forecast_reference_time: 5, t: 18)\n",
       "Coordinates:\n",
       "    elevation                     (station) float64 0B \n",
       "    latitude                      (station) float64 0B \n",
       "    grid_idx                      (station) float64 0B \n",
       "  * forecast_reference_time       (forecast_reference_time) datetime64[ns] 40B ...\n",
       "    longitude                     (station) float64 0B \n",
       "    model_height_difference       (station) float64 0B \n",
       "  * station                       (station) object 0B \n",
       "  * t                             (t) float64 144B 18.0 24.0 ... 114.0 120.0\n",
       "    owner_id                      (station) int64 0B \n",
       "Data variables:\n",
       "    obs_air_temperature           (station, forecast_reference_time, t) float64 0B ...\n",
       "    obs_dew_point_temperature     (station, forecast_reference_time, t) float64 0B ...\n",
       "    obs_surface_air_pressure      (station, forecast_reference_time, t) float64 0B ...\n",
       "    obs_relative_humidity         (station, forecast_reference_time, t) float64 0B ...\n",
       "    obs_water_vapor_mixing_ratio  (station, forecast_reference_time, t) float64 0B ...</pre><div class='xr-wrap' style='display:none'><div class='xr-header'><div class='xr-obj-type'>xarray.Dataset</div></div><ul class='xr-sections'><li class='xr-section-item'><input id='section-a38be74c-281c-47cc-be13-a4ec1418eb45' class='xr-section-summary-in' type='checkbox' disabled ><label for='section-a38be74c-281c-47cc-be13-a4ec1418eb45' class='xr-section-summary'  title='Expand/collapse section'>Dimensions:</label><div class='xr-section-inline-details'><ul class='xr-dim-list'><li><span class='xr-has-index'>station</span>: 0</li><li><span class='xr-has-index'>forecast_reference_time</span>: 5</li><li><span class='xr-has-index'>t</span>: 18</li></ul></div><div class='xr-section-details'></div></li><li class='xr-section-item'><input id='section-ef7fac1d-ea4f-4302-bf72-f01b67eb194a' class='xr-section-summary-in' type='checkbox'  checked><label for='section-ef7fac1d-ea4f-4302-bf72-f01b67eb194a' class='xr-section-summary' >Coordinates: <span>(9)</span></label><div class='xr-section-inline-details'></div><div class='xr-section-details'><ul class='xr-var-list'><li class='xr-var-item'><div class='xr-var-name'><span>elevation</span></div><div class='xr-var-dims'>(station)</div><div class='xr-var-dtype'>float64</div><div class='xr-var-preview xr-preview'></div><input id='attrs-b3299a99-d958-4f1c-a82d-a783a9e004ad' class='xr-var-attrs-in' type='checkbox' disabled><label for='attrs-b3299a99-d958-4f1c-a82d-a783a9e004ad' title='Show/Hide attributes'><svg class='icon xr-icon-file-text2'><use xlink:href='#icon-file-text2'></use></svg></label><input id='data-26246f89-6509-4834-861b-2a8d5d0b2bd1' class='xr-var-data-in' type='checkbox'><label for='data-26246f89-6509-4834-861b-2a8d5d0b2bd1' title='Show/Hide data repr'><svg class='icon xr-icon-database'><use xlink:href='#icon-database'></use></svg></label><div class='xr-var-attrs'><dl class='xr-attrs'></dl></div><div class='xr-var-data'><pre>array([], dtype=float64)</pre></div></li><li class='xr-var-item'><div class='xr-var-name'><span>latitude</span></div><div class='xr-var-dims'>(station)</div><div class='xr-var-dtype'>float64</div><div class='xr-var-preview xr-preview'></div><input id='attrs-b407edcc-cf89-4bc5-9905-f42b85955602' class='xr-var-attrs-in' type='checkbox' disabled><label for='attrs-b407edcc-cf89-4bc5-9905-f42b85955602' title='Show/Hide attributes'><svg class='icon xr-icon-file-text2'><use xlink:href='#icon-file-text2'></use></svg></label><input id='data-e8a02ece-a96e-42cc-a9de-b0e6bad62b39' class='xr-var-data-in' type='checkbox'><label for='data-e8a02ece-a96e-42cc-a9de-b0e6bad62b39' title='Show/Hide data repr'><svg class='icon xr-icon-database'><use xlink:href='#icon-database'></use></svg></label><div class='xr-var-attrs'><dl class='xr-attrs'></dl></div><div class='xr-var-data'><pre>array([], dtype=float64)</pre></div></li><li class='xr-var-item'><div class='xr-var-name'><span>grid_idx</span></div><div class='xr-var-dims'>(station)</div><div class='xr-var-dtype'>float64</div><div class='xr-var-preview xr-preview'></div><input id='attrs-b1d44803-464d-485a-9024-6d28a65b19c2' class='xr-var-attrs-in' type='checkbox' disabled><label for='attrs-b1d44803-464d-485a-9024-6d28a65b19c2' title='Show/Hide attributes'><svg class='icon xr-icon-file-text2'><use xlink:href='#icon-file-text2'></use></svg></label><input id='data-e809acff-e0aa-4403-ad02-d6e9d8ba06bb' class='xr-var-data-in' type='checkbox'><label for='data-e809acff-e0aa-4403-ad02-d6e9d8ba06bb' title='Show/Hide data repr'><svg class='icon xr-icon-database'><use xlink:href='#icon-database'></use></svg></label><div class='xr-var-attrs'><dl class='xr-attrs'></dl></div><div class='xr-var-data'><pre>array([], dtype=float64)</pre></div></li><li class='xr-var-item'><div class='xr-var-name'><span class='xr-has-index'>forecast_reference_time</span></div><div class='xr-var-dims'>(forecast_reference_time)</div><div class='xr-var-dtype'>datetime64[ns]</div><div class='xr-var-preview xr-preview'>2025-04-16 ... 2025-04-20</div><input id='attrs-8dbcfb48-53fb-44c5-b3af-71ea060ebdcf' class='xr-var-attrs-in' type='checkbox' disabled><label for='attrs-8dbcfb48-53fb-44c5-b3af-71ea060ebdcf' title='Show/Hide attributes'><svg class='icon xr-icon-file-text2'><use xlink:href='#icon-file-text2'></use></svg></label><input id='data-ddb5664c-4f1c-4612-98f4-c70affb66c73' class='xr-var-data-in' type='checkbox'><label for='data-ddb5664c-4f1c-4612-98f4-c70affb66c73' title='Show/Hide data repr'><svg class='icon xr-icon-database'><use xlink:href='#icon-database'></use></svg></label><div class='xr-var-attrs'><dl class='xr-attrs'></dl></div><div class='xr-var-data'><pre>array([&#x27;2025-04-16T00:00:00.000000000&#x27;, &#x27;2025-04-17T00:00:00.000000000&#x27;,\n",
       "       &#x27;2025-04-18T00:00:00.000000000&#x27;, &#x27;2025-04-19T00:00:00.000000000&#x27;,\n",
       "       &#x27;2025-04-20T00:00:00.000000000&#x27;], dtype=&#x27;datetime64[ns]&#x27;)</pre></div></li><li class='xr-var-item'><div class='xr-var-name'><span>longitude</span></div><div class='xr-var-dims'>(station)</div><div class='xr-var-dtype'>float64</div><div class='xr-var-preview xr-preview'></div><input id='attrs-2fb86a69-e990-4356-acd6-53f6c86a8595' class='xr-var-attrs-in' type='checkbox' disabled><label for='attrs-2fb86a69-e990-4356-acd6-53f6c86a8595' title='Show/Hide attributes'><svg class='icon xr-icon-file-text2'><use xlink:href='#icon-file-text2'></use></svg></label><input id='data-605ccb0e-c6e3-4035-b5a1-1169a9728992' class='xr-var-data-in' type='checkbox'><label for='data-605ccb0e-c6e3-4035-b5a1-1169a9728992' title='Show/Hide data repr'><svg class='icon xr-icon-database'><use xlink:href='#icon-database'></use></svg></label><div class='xr-var-attrs'><dl class='xr-attrs'></dl></div><div class='xr-var-data'><pre>array([], dtype=float64)</pre></div></li><li class='xr-var-item'><div class='xr-var-name'><span>model_height_difference</span></div><div class='xr-var-dims'>(station)</div><div class='xr-var-dtype'>float64</div><div class='xr-var-preview xr-preview'></div><input id='attrs-67ee2f81-0633-4270-bf16-a34d9a82fed3' class='xr-var-attrs-in' type='checkbox' disabled><label for='attrs-67ee2f81-0633-4270-bf16-a34d9a82fed3' title='Show/Hide attributes'><svg class='icon xr-icon-file-text2'><use xlink:href='#icon-file-text2'></use></svg></label><input id='data-9e99f277-ba81-4832-8ba2-1c0574d7aef0' class='xr-var-data-in' type='checkbox'><label for='data-9e99f277-ba81-4832-8ba2-1c0574d7aef0' title='Show/Hide data repr'><svg class='icon xr-icon-database'><use xlink:href='#icon-database'></use></svg></label><div class='xr-var-attrs'><dl class='xr-attrs'></dl></div><div class='xr-var-data'><pre>array([], dtype=float64)</pre></div></li><li class='xr-var-item'><div class='xr-var-name'><span class='xr-has-index'>station</span></div><div class='xr-var-dims'>(station)</div><div class='xr-var-dtype'>object</div><div class='xr-var-preview xr-preview'></div><input id='attrs-d538eefd-8d2e-42e6-9d34-23171a24a68d' class='xr-var-attrs-in' type='checkbox' disabled><label for='attrs-d538eefd-8d2e-42e6-9d34-23171a24a68d' title='Show/Hide attributes'><svg class='icon xr-icon-file-text2'><use xlink:href='#icon-file-text2'></use></svg></label><input id='data-4489b052-3648-4e65-833d-6319f98622b5' class='xr-var-data-in' type='checkbox'><label for='data-4489b052-3648-4e65-833d-6319f98622b5' title='Show/Hide data repr'><svg class='icon xr-icon-database'><use xlink:href='#icon-database'></use></svg></label><div class='xr-var-attrs'><dl class='xr-attrs'></dl></div><div class='xr-var-data'><pre>array([], dtype=object)</pre></div></li><li class='xr-var-item'><div class='xr-var-name'><span class='xr-has-index'>t</span></div><div class='xr-var-dims'>(t)</div><div class='xr-var-dtype'>float64</div><div class='xr-var-preview xr-preview'>18.0 24.0 30.0 ... 114.0 120.0</div><input id='attrs-7a6c9ebb-dc29-42f3-aa3e-9951afe882e9' class='xr-var-attrs-in' type='checkbox' disabled><label for='attrs-7a6c9ebb-dc29-42f3-aa3e-9951afe882e9' title='Show/Hide attributes'><svg class='icon xr-icon-file-text2'><use xlink:href='#icon-file-text2'></use></svg></label><input id='data-725b6bf8-fcc0-4d18-b732-976efe39865f' class='xr-var-data-in' type='checkbox'><label for='data-725b6bf8-fcc0-4d18-b732-976efe39865f' title='Show/Hide data repr'><svg class='icon xr-icon-database'><use xlink:href='#icon-database'></use></svg></label><div class='xr-var-attrs'><dl class='xr-attrs'></dl></div><div class='xr-var-data'><pre>array([ 18.,  24.,  30.,  36.,  42.,  48.,  54.,  60.,  66.,  72.,  78.,  84.,\n",
       "        90.,  96., 102., 108., 114., 120.])</pre></div></li><li class='xr-var-item'><div class='xr-var-name'><span>owner_id</span></div><div class='xr-var-dims'>(station)</div><div class='xr-var-dtype'>int64</div><div class='xr-var-preview xr-preview'></div><input id='attrs-6269e813-6cc2-4f78-b08a-ae3e00b9a959' class='xr-var-attrs-in' type='checkbox' disabled><label for='attrs-6269e813-6cc2-4f78-b08a-ae3e00b9a959' title='Show/Hide attributes'><svg class='icon xr-icon-file-text2'><use xlink:href='#icon-file-text2'></use></svg></label><input id='data-fc155d30-15c4-4970-ba97-be307c52fecd' class='xr-var-data-in' type='checkbox'><label for='data-fc155d30-15c4-4970-ba97-be307c52fecd' title='Show/Hide data repr'><svg class='icon xr-icon-database'><use xlink:href='#icon-database'></use></svg></label><div class='xr-var-attrs'><dl class='xr-attrs'></dl></div><div class='xr-var-data'><pre>array([], dtype=int64)</pre></div></li></ul></div></li><li class='xr-section-item'><input id='section-6280a0f7-4f70-4956-82fa-4e66981ee099' class='xr-section-summary-in' type='checkbox'  checked><label for='section-6280a0f7-4f70-4956-82fa-4e66981ee099' class='xr-section-summary' >Data variables: <span>(5)</span></label><div class='xr-section-inline-details'></div><div class='xr-section-details'><ul class='xr-var-list'><li class='xr-var-item'><div class='xr-var-name'><span>obs_air_temperature</span></div><div class='xr-var-dims'>(station, forecast_reference_time, t)</div><div class='xr-var-dtype'>float64</div><div class='xr-var-preview xr-preview'></div><input id='attrs-6085369a-fcb0-4d49-8318-18340b2bd1f4' class='xr-var-attrs-in' type='checkbox' disabled><label for='attrs-6085369a-fcb0-4d49-8318-18340b2bd1f4' title='Show/Hide attributes'><svg class='icon xr-icon-file-text2'><use xlink:href='#icon-file-text2'></use></svg></label><input id='data-be3dd13c-6f99-4f41-a8a9-5ab04f4b9d88' class='xr-var-data-in' type='checkbox'><label for='data-be3dd13c-6f99-4f41-a8a9-5ab04f4b9d88' title='Show/Hide data repr'><svg class='icon xr-icon-database'><use xlink:href='#icon-database'></use></svg></label><div class='xr-var-attrs'><dl class='xr-attrs'></dl></div><div class='xr-var-data'><pre>array([], shape=(0, 5, 18), dtype=float64)</pre></div></li><li class='xr-var-item'><div class='xr-var-name'><span>obs_dew_point_temperature</span></div><div class='xr-var-dims'>(station, forecast_reference_time, t)</div><div class='xr-var-dtype'>float64</div><div class='xr-var-preview xr-preview'></div><input id='attrs-e8885217-63b4-46e6-824a-a18d1cbd82a9' class='xr-var-attrs-in' type='checkbox' disabled><label for='attrs-e8885217-63b4-46e6-824a-a18d1cbd82a9' title='Show/Hide attributes'><svg class='icon xr-icon-file-text2'><use xlink:href='#icon-file-text2'></use></svg></label><input id='data-a6c95a8e-c7de-4d1d-9bdb-65f497dd7836' class='xr-var-data-in' type='checkbox'><label for='data-a6c95a8e-c7de-4d1d-9bdb-65f497dd7836' title='Show/Hide data repr'><svg class='icon xr-icon-database'><use xlink:href='#icon-database'></use></svg></label><div class='xr-var-attrs'><dl class='xr-attrs'></dl></div><div class='xr-var-data'><pre>array([], shape=(0, 5, 18), dtype=float64)</pre></div></li><li class='xr-var-item'><div class='xr-var-name'><span>obs_surface_air_pressure</span></div><div class='xr-var-dims'>(station, forecast_reference_time, t)</div><div class='xr-var-dtype'>float64</div><div class='xr-var-preview xr-preview'></div><input id='attrs-1a50ba1e-f2c5-4ef9-9b71-644f211e2142' class='xr-var-attrs-in' type='checkbox' disabled><label for='attrs-1a50ba1e-f2c5-4ef9-9b71-644f211e2142' title='Show/Hide attributes'><svg class='icon xr-icon-file-text2'><use xlink:href='#icon-file-text2'></use></svg></label><input id='data-4a41f62e-89ea-496c-88b4-ede656ff4125' class='xr-var-data-in' type='checkbox'><label for='data-4a41f62e-89ea-496c-88b4-ede656ff4125' title='Show/Hide data repr'><svg class='icon xr-icon-database'><use xlink:href='#icon-database'></use></svg></label><div class='xr-var-attrs'><dl class='xr-attrs'></dl></div><div class='xr-var-data'><pre>array([], shape=(0, 5, 18), dtype=float64)</pre></div></li><li class='xr-var-item'><div class='xr-var-name'><span>obs_relative_humidity</span></div><div class='xr-var-dims'>(station, forecast_reference_time, t)</div><div class='xr-var-dtype'>float64</div><div class='xr-var-preview xr-preview'></div><input id='attrs-eafb43f2-b84e-49af-ad9b-855c23d6109b' class='xr-var-attrs-in' type='checkbox' disabled><label for='attrs-eafb43f2-b84e-49af-ad9b-855c23d6109b' title='Show/Hide attributes'><svg class='icon xr-icon-file-text2'><use xlink:href='#icon-file-text2'></use></svg></label><input id='data-d669e886-e022-4d5c-91fa-b0a178cfcfea' class='xr-var-data-in' type='checkbox'><label for='data-d669e886-e022-4d5c-91fa-b0a178cfcfea' title='Show/Hide data repr'><svg class='icon xr-icon-database'><use xlink:href='#icon-database'></use></svg></label><div class='xr-var-attrs'><dl class='xr-attrs'></dl></div><div class='xr-var-data'><pre>array([], shape=(0, 5, 18), dtype=float64)</pre></div></li><li class='xr-var-item'><div class='xr-var-name'><span>obs_water_vapor_mixing_ratio</span></div><div class='xr-var-dims'>(station, forecast_reference_time, t)</div><div class='xr-var-dtype'>float64</div><div class='xr-var-preview xr-preview'></div><input id='attrs-198609c7-cb2b-4a3e-b79c-215396691575' class='xr-var-attrs-in' type='checkbox' disabled><label for='attrs-198609c7-cb2b-4a3e-b79c-215396691575' title='Show/Hide attributes'><svg class='icon xr-icon-file-text2'><use xlink:href='#icon-file-text2'></use></svg></label><input id='data-038807f6-70e5-4699-9a78-bd0c562d4e09' class='xr-var-data-in' type='checkbox'><label for='data-038807f6-70e5-4699-9a78-bd0c562d4e09' title='Show/Hide data repr'><svg class='icon xr-icon-database'><use xlink:href='#icon-database'></use></svg></label><div class='xr-var-attrs'><dl class='xr-attrs'></dl></div><div class='xr-var-data'><pre>array([], shape=(0, 5, 18), dtype=float64)</pre></div></li></ul></div></li><li class='xr-section-item'><input id='section-3312edaa-abe6-4a98-9f42-768c07d0d977' class='xr-section-summary-in' type='checkbox'  ><label for='section-3312edaa-abe6-4a98-9f42-768c07d0d977' class='xr-section-summary' >Indexes: <span>(3)</span></label><div class='xr-section-inline-details'></div><div class='xr-section-details'><ul class='xr-var-list'><li class='xr-var-item'><div class='xr-index-name'><div>forecast_reference_time</div></div><div class='xr-index-preview'>PandasIndex</div><input type='checkbox' disabled/><label></label><input id='index-4f879801-b1bf-4abc-befe-abfc053654f7' class='xr-index-data-in' type='checkbox'/><label for='index-4f879801-b1bf-4abc-befe-abfc053654f7' title='Show/Hide index repr'><svg class='icon xr-icon-database'><use xlink:href='#icon-database'></use></svg></label><div class='xr-index-data'><pre>PandasIndex(DatetimeIndex([&#x27;2025-04-16&#x27;, &#x27;2025-04-17&#x27;, &#x27;2025-04-18&#x27;, &#x27;2025-04-19&#x27;,\n",
       "               &#x27;2025-04-20&#x27;],\n",
       "              dtype=&#x27;datetime64[ns]&#x27;, name=&#x27;forecast_reference_time&#x27;, freq=None))</pre></div></li><li class='xr-var-item'><div class='xr-index-name'><div>station</div></div><div class='xr-index-preview'>PandasIndex</div><input type='checkbox' disabled/><label></label><input id='index-7252afa2-b931-445d-8637-b0f4de7ef416' class='xr-index-data-in' type='checkbox'/><label for='index-7252afa2-b931-445d-8637-b0f4de7ef416' title='Show/Hide index repr'><svg class='icon xr-icon-database'><use xlink:href='#icon-database'></use></svg></label><div class='xr-index-data'><pre>PandasIndex(Index([], dtype=&#x27;object&#x27;, name=&#x27;station&#x27;))</pre></div></li><li class='xr-var-item'><div class='xr-index-name'><div>t</div></div><div class='xr-index-preview'>PandasIndex</div><input type='checkbox' disabled/><label></label><input id='index-be454f6f-5722-43e1-a48d-87c55f7df397' class='xr-index-data-in' type='checkbox'/><label for='index-be454f6f-5722-43e1-a48d-87c55f7df397' title='Show/Hide index repr'><svg class='icon xr-icon-database'><use xlink:href='#icon-database'></use></svg></label><div class='xr-index-data'><pre>PandasIndex(Index([ 18.0,  24.0,  30.0,  36.0,  42.0,  48.0,  54.0,  60.0,  66.0,  72.0,\n",
       "        78.0,  84.0,  90.0,  96.0, 102.0, 108.0, 114.0, 120.0],\n",
       "      dtype=&#x27;float64&#x27;, name=&#x27;t&#x27;))</pre></div></li></ul></div></li><li class='xr-section-item'><input id='section-a633070d-097e-4168-8d85-8efd943f57ce' class='xr-section-summary-in' type='checkbox' disabled ><label for='section-a633070d-097e-4168-8d85-8efd943f57ce' class='xr-section-summary'  title='Expand/collapse section'>Attributes: <span>(0)</span></label><div class='xr-section-inline-details'></div><div class='xr-section-details'><dl class='xr-attrs'></dl></div></li></ul></div></div>"
      ]
     },
     "execution_count": 26,
     "metadata": {},
     "output_type": "execute_result"
    }
   ],
   "execution_count": 26
  },
  {
   "metadata": {
    "ExecuteTime": {
     "end_time": "2025-04-20T11:08:10.642955Z",
     "start_time": "2025-04-20T11:08:10.552405Z"
    }
   },
   "cell_type": "code",
   "source": [
    "try:\n",
    "    x, y = reshape(features, targets)\n",
    "    x, y = drop_missing(x, y)\n",
    "except Exception as e:\n",
    "    LOGGER.error(f\"Reshape veya drop_missing sırasında hata: {e}\")\n",
    "    # Hata durumunda alınacak önlemler\n",
    "    x = features.to_array(\"var\")\n",
    "    y = targets.to_array(\"var\")\n",
    "    LOGGER.warning(\"Basitleştirilmiş dönüşüm yapıldı\")"
   ],
   "id": "c6e77a8f0c625f81",
   "outputs": [
    {
     "name": "stdout",
     "output_type": "stream",
     "text": [
      "2025-04-20 14:08:10 INFO     [2998523191.py:14] Reshaped: x -> {'s': 0, 'var': 11} and y -> {'s': 0, 'var': 5}\n",
      "2025-04-20 14:08:10 INFO     [2427045864.py:11] Dropped 0 incomplete samples out of 0\n"
     ]
    }
   ],
   "execution_count": 27
  },
  {
   "metadata": {
    "ExecuteTime": {
     "end_time": "2025-04-20T11:08:24.699001Z",
     "start_time": "2025-04-20T11:08:24.681421Z"
    }
   },
   "cell_type": "code",
   "source": [
    "coord_names = [\"elevation\", \"longitude\", \"latitude\", \"model_height_difference\"]\n",
    "existing_coords = [coord for coord in coord_names if coord in targets.coords]\n",
    "LOGGER.info(f\"Mevcut koordinatlar: {existing_coords}\")"
   ],
   "id": "ccf4dcea39c496b4",
   "outputs": [
    {
     "name": "stdout",
     "output_type": "stream",
     "text": [
      "2025-04-20 14:08:24 INFO     [4168571450.py:3] Mevcut koordinatlar: ['elevation', 'longitude', 'latitude', 'model_height_difference']\n"
     ]
    }
   ],
   "execution_count": 28
  },
  {
   "metadata": {
    "ExecuteTime": {
     "end_time": "2025-04-20T11:08:37.946313Z",
     "start_time": "2025-04-20T11:08:37.911408Z"
    }
   },
   "cell_type": "code",
   "source": [
    "try:\n",
    "    stations_list = {}\n",
    "    for coord in existing_coords:\n",
    "        coord_data = targets[coord].to_pandas() if coord in targets else None\n",
    "        if coord_data is not None:\n",
    "            stations_list[coord] = coord_data.to_dict()\n",
    "\n",
    "    # İstasyon ID haritalaması\n",
    "    station_id_map = {s: i for i, s in enumerate(targets.station.values)}\n",
    "    stations_list[\"id\"] = station_id_map\n",
    "\n",
    "    # Eğer x'de station varsa, station_id_coord oluştur\n",
    "    if hasattr(x, 'station') and callable(getattr(x.station, 'to_pandas', None)):\n",
    "        station_id_coord = x.station.to_pandas().map(station_id_map).values\n",
    "        x = x.assign_coords(station_id=(\"s\", station_id_coord))\n",
    "    else:\n",
    "        LOGGER.warning(\"x.station bulunamadı, station_id koordinatı eklenemedi\")\n",
    "\n",
    "    # Koordinatları sıfırla\n",
    "    reset_coords_list = [\"owner_id\"] + existing_coords\n",
    "    reset_coords_x = [coord for coord in reset_coords_list if coord in getattr(x, 'coords', [])]\n",
    "    reset_coords_y = [coord for coord in reset_coords_list if coord in getattr(y, 'coords', [])]\n",
    "\n",
    "    if reset_coords_x:\n",
    "        x = x.reset_coords(reset_coords_x, drop=True)\n",
    "    if reset_coords_y:\n",
    "        y = y.reset_coords(reset_coords_y, drop=True)\n",
    "\n",
    "except Exception as e:\n",
    "    LOGGER.error(f\"İstasyon ID eşleştirmesinde hata: {e}\")\n",
    "    # Basit bir stations_list oluştur\n",
    "    stations_list = {\"id\": {s: i for i, s in enumerate(targets.station.values)}}"
   ],
   "id": "bd22caea999aa09d",
   "outputs": [],
   "execution_count": 29
  },
  {
   "metadata": {
    "ExecuteTime": {
     "end_time": "2025-04-20T11:10:37.931627Z",
     "start_time": "2025-04-20T11:10:37.019946Z"
    }
   },
   "cell_type": "code",
   "source": [
    "\n",
    "# Dosyaları yazma kısmını güncelleyerek string veri sorunu çözülüyor\n",
    "try:\n",
    "    Path(outputs[\"x\"]).parent.mkdir(parents=True, exist_ok=True)\n",
    "\n",
    "    # Çıktı formatını zarr olarak değiştir (string desteği için)\n",
    "    outputs[\"x\"] = outputs[\"x\"].replace(\".nc\", \".zarr\")\n",
    "    outputs[\"y\"] = outputs[\"y\"].replace(\".nc\", \".zarr\")\n",
    "\n",
    "    # Zarr olarak kaydet\n",
    "    if hasattr(x, 'to_dataset'):\n",
    "        # String değerleri de içeren verileri zarr olarak kaydet\n",
    "        x.to_dataset(\"var\").to_zarr(outputs[\"x\"], mode=\"w\")\n",
    "    else:\n",
    "        LOGGER.warning(\"x.to_dataset metodu bulunamadı, ham veri kaydediliyor\")\n",
    "        xr.Dataset({\"x\": x}).to_zarr(outputs[\"x\"], mode=\"w\")\n",
    "\n",
    "    if hasattr(y, 'to_dataset'):\n",
    "        y.to_dataset(\"var\").to_zarr(outputs[\"y\"], mode=\"w\")\n",
    "    else:\n",
    "        LOGGER.warning(\"y.to_dataset metodu bulunamadı, ham veri kaydediliyor\")\n",
    "        xr.Dataset({\"y\": y}).to_zarr(outputs[\"y\"], mode=\"w\")\n",
    "\n",
    "    with open(outputs[\"stations_list\"], \"w\") as f:\n",
    "        json.dump(stations_list, f, indent=4)\n",
    "\n",
    "    LOGGER.info(f\"Saved: {outputs['x']}, {outputs['y']} and {outputs['stations_list']}\")\n",
    "except Exception as e:\n",
    "    LOGGER.error(f\"Dosyaları kaydederken hata: {e}\")\n",
    "\n",
    "    # String değerlerini dönüştürmeyi dene\n",
    "    try:\n",
    "        LOGGER.info(\"String değerlerini dönüştürme deneniyor...\")\n",
    "\n",
    "        # String değerlerini kategori kodlarına dönüştür\n",
    "        if hasattr(x, 'to_dataset'):\n",
    "            x_ds = x.to_dataset(\"var\")\n",
    "\n",
    "            # String değerlerini kontrol et ve dönüştür\n",
    "            for var in x_ds.variables:\n",
    "                if np.issubdtype(x_ds[var].dtype, np.dtype('O')) or str(x_ds[var].dtype).startswith('string'):\n",
    "                    LOGGER.info(f\"String değeri bulundu ve dönüştürülüyor: {var}\")\n",
    "                    # String değerleri kategori kodlarına dönüştür\n",
    "                    unique_values = np.unique(x_ds[var].values.ravel())\n",
    "                    mapping = {val: i for i, val in enumerate(unique_values)}\n",
    "                    numeric_values = np.array([mapping[v] for v in x_ds[var].values.ravel()]).reshape(x_ds[var].shape)\n",
    "                    x_ds[var] = (x_ds[var].dims, numeric_values)\n",
    "\n",
    "                    # Eşleme tablosunu bir attribute olarak ekle\n",
    "                    x_ds[var].attrs[\"string_mapping\"] = str(mapping)\n",
    "\n",
    "            x_ds.to_netcdf(outputs[\"x\"].replace(\".zarr\", \".nc\"))\n",
    "\n",
    "        if hasattr(y, 'to_dataset'):\n",
    "            y_ds = y.to_dataset(\"var\")\n",
    "\n",
    "            # String değerlerini kontrol et ve dönüştür\n",
    "            for var in y_ds.variables:\n",
    "                if np.issubdtype(y_ds[var].dtype, np.dtype('O')) or str(y_ds[var].dtype).startswith('string'):\n",
    "                    LOGGER.info(f\"String değeri bulundu ve dönüştürülüyor: {var}\")\n",
    "                    # String değerleri kategori kodlarına dönüştür\n",
    "                    unique_values = np.unique(y_ds[var].values.ravel())\n",
    "                    mapping = {val: i for i, val in enumerate(unique_values)}\n",
    "                    numeric_values = np.array([mapping[v] for v in y_ds[var].values.ravel()]).reshape(y_ds[var].shape)\n",
    "                    y_ds[var] = (y_ds[var].dims, numeric_values)\n",
    "\n",
    "                    # Eşleme tablosunu bir attribute olarak ekle\n",
    "                    y_ds[var].attrs[\"string_mapping\"] = str(mapping)\n",
    "\n",
    "            y_ds.to_netcdf(outputs[\"y\"].replace(\".zarr\", \".nc\"))\n",
    "\n",
    "        LOGGER.info(f\"String değerleri dönüştürüldü ve netCDF olarak kaydedildi\")\n",
    "    except Exception as e2:\n",
    "        LOGGER.error(f\"String değerleri dönüştürürken de hata: {e2}\")\n",
    "        LOGGER.info(\"Alternatif: Veriyi pickle formatında kaydetmeyi deneyin\")\n",
    "\n",
    "        import pickle\n",
    "\n",
    "        # Pickle olarak kaydet (son çare)\n",
    "        with open(outputs[\"x\"].replace(\".zarr\", \".pkl\"), 'wb') as f:\n",
    "            pickle.dump(x, f)\n",
    "\n",
    "        with open(outputs[\"y\"].replace(\".zarr\", \".pkl\"), 'wb') as f:\n",
    "            pickle.dump(y, f)\n",
    "\n",
    "        LOGGER.info(f\"Veriler pickle formatında kaydedildi\")"
   ],
   "id": "862931daf2e7d3fc",
   "outputs": [
    {
     "name": "stderr",
     "output_type": "stream",
     "text": [
      "D:\\ML2025\\PCPP\\.venv\\Lib\\site-packages\\zarr\\codecs\\vlen_utf8.py:44: UserWarning: The codec `vlen-utf8` is currently not part in the Zarr format 3 specification. It may not be supported by other zarr implementations and may change in the future.\n",
      "  return cls(**configuration_parsed)\n",
      "D:\\ML2025\\PCPP\\.venv\\Lib\\site-packages\\zarr\\core\\array.py:3989: UserWarning: The dtype `StringDType()` is currently not part in the Zarr format 3 specification. It may not be supported by other zarr implementations and may change in the future.\n",
      "  meta = AsyncArray._create_metadata_v3(\n",
      "D:\\ML2025\\PCPP\\.venv\\Lib\\site-packages\\zarr\\codecs\\vlen_utf8.py:44: UserWarning: The codec `vlen-utf8` is currently not part in the Zarr format 3 specification. It may not be supported by other zarr implementations and may change in the future.\n",
      "  return cls(**configuration_parsed)\n",
      "D:\\ML2025\\PCPP\\.venv\\Lib\\site-packages\\zarr\\api\\asynchronous.py:203: UserWarning: Consolidated metadata is currently not part in the Zarr format 3 specification. It may not be supported by other zarr implementations and may change in the future.\n",
      "  warnings.warn(\n",
      "D:\\ML2025\\PCPP\\.venv\\Lib\\site-packages\\zarr\\codecs\\vlen_utf8.py:44: UserWarning: The codec `vlen-utf8` is currently not part in the Zarr format 3 specification. It may not be supported by other zarr implementations and may change in the future.\n",
      "  return cls(**configuration_parsed)\n",
      "D:\\ML2025\\PCPP\\.venv\\Lib\\site-packages\\zarr\\core\\array.py:3989: UserWarning: The dtype `StringDType()` is currently not part in the Zarr format 3 specification. It may not be supported by other zarr implementations and may change in the future.\n",
      "  meta = AsyncArray._create_metadata_v3(\n"
     ]
    },
    {
     "name": "stdout",
     "output_type": "stream",
     "text": [
      "2025-04-20 14:10:37 INFO     [3681899976.py:26] Saved: filtered_and_preprocessed_data/x.zarr, filtered_and_preprocessed_data/y.zarr and data/stations_list.json\n"
     ]
    },
    {
     "name": "stderr",
     "output_type": "stream",
     "text": [
      "D:\\ML2025\\PCPP\\.venv\\Lib\\site-packages\\zarr\\codecs\\vlen_utf8.py:44: UserWarning: The codec `vlen-utf8` is currently not part in the Zarr format 3 specification. It may not be supported by other zarr implementations and may change in the future.\n",
      "  return cls(**configuration_parsed)\n",
      "D:\\ML2025\\PCPP\\.venv\\Lib\\site-packages\\zarr\\api\\asynchronous.py:203: UserWarning: Consolidated metadata is currently not part in the Zarr format 3 specification. It may not be supported by other zarr implementations and may change in the future.\n",
      "  warnings.warn(\n"
     ]
    }
   ],
   "execution_count": 32
  },
  {
   "metadata": {},
   "cell_type": "code",
   "outputs": [],
   "execution_count": null,
   "source": "",
   "id": "3d9d076e5d7d3d9"
  }
 ],
 "metadata": {
  "kernelspec": {
   "display_name": "Python 3",
   "language": "python",
   "name": "python3"
  },
  "language_info": {
   "codemirror_mode": {
    "name": "ipython",
    "version": 2
   },
   "file_extension": ".py",
   "mimetype": "text/x-python",
   "name": "python",
   "nbconvert_exporter": "python",
   "pygments_lexer": "ipython2",
   "version": "2.7.6"
  }
 },
 "nbformat": 4,
 "nbformat_minor": 5
}
