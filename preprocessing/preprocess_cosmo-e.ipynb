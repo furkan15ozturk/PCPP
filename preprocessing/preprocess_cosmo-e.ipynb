{
 "cells": [
  {
   "cell_type": "code",
   "id": "initial_id",
   "metadata": {
    "collapsed": true,
    "ExecuteTime": {
     "end_time": "2025-04-19T19:43:32.513999Z",
     "start_time": "2025-04-19T19:43:27.294229Z"
    }
   },
   "source": [
    "import os\n",
    "import numpy as np\n",
    "import polars as pl\n",
    "import pandas as pd\n",
    "import xarray as xr\n",
    "from datetime import datetime"
   ],
   "outputs": [],
   "execution_count": 1
  },
  {
   "metadata": {
    "ExecuteTime": {
     "end_time": "2025-04-19T19:46:26.797920Z",
     "start_time": "2025-04-19T19:46:26.784954Z"
    }
   },
   "cell_type": "code",
   "source": "station_metadata_df = pl.read_csv(\"../data/cosmo-e.csv\", separator=\";\", n_rows=5, skip_rows=17, has_header=False)",
   "id": "957fd41477437e61",
   "outputs": [],
   "execution_count": 33
  },
  {
   "metadata": {
    "ExecuteTime": {
     "end_time": "2025-04-19T19:46:27.211759Z",
     "start_time": "2025-04-19T19:46:27.206466Z"
    }
   },
   "cell_type": "code",
   "source": "cols = station_metadata_df.columns[1:]",
   "id": "6fcfa91f9a75819b",
   "outputs": [],
   "execution_count": 34
  },
  {
   "metadata": {
    "ExecuteTime": {
     "end_time": "2025-04-19T19:46:27.624609Z",
     "start_time": "2025-04-19T19:46:27.608508Z"
    }
   },
   "cell_type": "code",
   "source": [
    "station_codes = station_metadata_df.select(cols).row(0)\n",
    "longitudes     = station_metadata_df.select(cols).row(1)\n",
    "latitudes      = station_metadata_df.select(cols).row(2)\n",
    "grid_idx       = station_metadata_df.select(cols).row(3)\n",
    "elevations     = station_metadata_df.select(cols).row(4)"
   ],
   "id": "5f20b498b85ac157",
   "outputs": [],
   "execution_count": 35
  },
  {
   "metadata": {
    "ExecuteTime": {
     "end_time": "2025-04-19T19:46:27.927458Z",
     "start_time": "2025-04-19T19:46:27.918252Z"
    }
   },
   "cell_type": "code",
   "source": [
    "station_metadata = pl.DataFrame({\n",
    "    'station': station_codes,\n",
    "    'longitude': longitudes,\n",
    "    'latitude': latitudes,\n",
    "    'elevation': elevations,\n",
    "    'grid_idx': grid_idx\n",
    "})"
   ],
   "id": "398fa637679d077b",
   "outputs": [],
   "execution_count": 36
  },
  {
   "metadata": {
    "ExecuteTime": {
     "end_time": "2025-04-19T19:46:28.096662Z",
     "start_time": "2025-04-19T19:46:28.088075Z"
    }
   },
   "cell_type": "code",
   "source": [
    "cols_to_cast = ['longitude', 'latitude', 'elevation', 'grid_idx']\n",
    "\n",
    "station_metadata = station_metadata.with_columns([\n",
    "    pl.col(c).cast(pl.Float64, strict=False).alias(c)\n",
    "    for c in cols_to_cast\n",
    "])"
   ],
   "id": "9d3442bab2c9317d",
   "outputs": [],
   "execution_count": 37
  },
  {
   "metadata": {
    "ExecuteTime": {
     "end_time": "2025-04-19T19:46:28.330784Z",
     "start_time": "2025-04-19T19:46:28.259310Z"
    }
   },
   "cell_type": "code",
   "source": [
    "df = pl.read_csv(\"../data/cosmo-e.csv\", separator=\";\", skip_rows=23)\n",
    "df = df.slice(2)"
   ],
   "id": "3ee68f5fdc359d40",
   "outputs": [],
   "execution_count": 38
  },
  {
   "metadata": {
    "ExecuteTime": {
     "end_time": "2025-04-19T19:46:28.626119Z",
     "start_time": "2025-04-19T19:46:28.560567Z"
    }
   },
   "cell_type": "code",
   "source": [
    "df = df.with_columns([\n",
    "    pl.col(\"time\").str.strptime(pl.Datetime, \"%Y%m%d %H:%M\").alias(\"forecast_reference_time\"),\n",
    "    pl.col(\"leadtime\").str.split(\":\").list.get(0).cast(pl.Float64).alias(\"t\")\n",
    "])"
   ],
   "id": "23fdc11c1952b29c",
   "outputs": [],
   "execution_count": 39
  },
  {
   "metadata": {
    "ExecuteTime": {
     "end_time": "2025-04-19T19:46:28.694103Z",
     "start_time": "2025-04-19T19:46:28.681940Z"
    }
   },
   "cell_type": "code",
   "source": "base_vars = ['T_2M', 'FF_10M', 'DD_10M', 'TOT_PREC', 'RELHUM_2M', 'DURSUN']",
   "id": "d8c0dced3cf156c9",
   "outputs": [],
   "execution_count": 40
  },
  {
   "metadata": {
    "ExecuteTime": {
     "end_time": "2025-04-19T19:46:33.977468Z",
     "start_time": "2025-04-19T19:46:28.953713Z"
    }
   },
   "cell_type": "code",
   "source": [
    "for var in base_vars:\n",
    "    var_cols = [col for col in df.columns if col == var or (var in col and \"_duplicated_\" in col)]\n",
    "\n",
    "    if not var_cols:\n",
    "        print(f\"  Warning: No columns found for {var}\")\n",
    "        continue\n",
    "\n",
    "    print(f\"  {var}: Processing {len(var_cols)} ensemble members\")\n",
    "\n",
    "    # Convert to numeric and handle missing values (-999.0)\n",
    "    for col in var_cols:\n",
    "        df = df.with_columns([\n",
    "            pl.when(pl.col(col).cast(pl.Float64) == -999.0)\n",
    "            .then(None)\n",
    "            .otherwise(pl.col(col).cast(pl.Float64))\n",
    "            .alias(col)\n",
    "        ])\n",
    "\n",
    "    # Calculate ensemble average\n",
    "    df = df.with_columns([\n",
    "        pl.mean_horizontal([pl.col(c) for c in var_cols])\n",
    "        .alias(f\"coe:{var.lower()}_ensavg\")\n",
    "    ])"
   ],
   "id": "1935dc8381ad21cb",
   "outputs": [
    {
     "name": "stdout",
     "output_type": "stream",
     "text": [
      "  T_2M: Processing 21 ensemble members\n",
      "  FF_10M: Processing 21 ensemble members\n",
      "  DD_10M: Processing 21 ensemble members\n",
      "  TOT_PREC: Processing 21 ensemble members\n",
      "  RELHUM_2M: Processing 21 ensemble members\n",
      "  DURSUN: Processing 21 ensemble members\n"
     ]
    }
   ],
   "execution_count": 41
  },
  {
   "metadata": {
    "ExecuteTime": {
     "end_time": "2025-04-19T19:46:37.868443Z",
     "start_time": "2025-04-19T19:46:37.861387Z"
    }
   },
   "cell_type": "code",
   "source": [
    "result_cols = [\"stn\", \"forecast_reference_time\", \"t\"] + [f\"coe:{var.lower()}_ensavg\" for var in base_vars]\n",
    "result = df.select(result_cols).rename({\"stn\": \"station\"})"
   ],
   "id": "90fd4cdaf031a8a5",
   "outputs": [],
   "execution_count": 42
  },
  {
   "metadata": {
    "ExecuteTime": {
     "end_time": "2025-04-19T19:46:38.127112Z",
     "start_time": "2025-04-19T19:46:38.110506Z"
    }
   },
   "cell_type": "code",
   "source": [
    "if \"coe:t_2m_ensavg\" in result.columns and \"coe:air_temperature_ensavg\" not in result.columns:\n",
    "    result = result.with_columns([\n",
    "        pl.col(\"coe:t_2m_ensavg\").alias(\"coe:air_temperature_ensavg\")\n",
    "    ])\n",
    "\n",
    "if \"coe:relhum_2m_ensavg\" in result.columns and \"coe:relative_humidity_ensavg\" not in result.columns:\n",
    "    result = result.with_columns([\n",
    "        pl.col(\"coe:relhum_2m_ensavg\").alias(\"coe:relative_humidity_ensavg\")\n",
    "    ])"
   ],
   "id": "3fc86f98d1e2eecc",
   "outputs": [],
   "execution_count": 43
  },
  {
   "metadata": {
    "ExecuteTime": {
     "end_time": "2025-04-19T19:46:38.377307Z",
     "start_time": "2025-04-19T19:46:38.359145Z"
    }
   },
   "cell_type": "code",
   "source": [
    "if \"coe:surface_air_pressure_ensavg\" not in result.columns:\n",
    "    result = result.with_columns([\n",
    "        pl.lit(1013.25).alias(\"coe:surface_air_pressure_ensavg\")\n",
    "    ])"
   ],
   "id": "571c9780c5ab44c1",
   "outputs": [],
   "execution_count": 44
  },
  {
   "metadata": {
    "ExecuteTime": {
     "end_time": "2025-04-19T19:46:38.620505Z",
     "start_time": "2025-04-19T19:46:38.601807Z"
    }
   },
   "cell_type": "code",
   "source": "pd_result = pd.DataFrame(result.to_dict(as_series=True))",
   "id": "9c7d9a97e3d79b0c",
   "outputs": [],
   "execution_count": 45
  },
  {
   "metadata": {
    "ExecuteTime": {
     "end_time": "2025-04-19T19:46:38.934936Z",
     "start_time": "2025-04-19T19:46:38.922109Z"
    }
   },
   "cell_type": "code",
   "source": [
    "def calculate_dewpoint(row):\n",
    "    T = row[\"coe:air_temperature_ensavg\"]\n",
    "    RH = row[\"coe:relative_humidity_ensavg\"]\n",
    "\n",
    "    if pd.isna(T) or pd.isna(RH) or RH <= 0:\n",
    "        return np.nan\n",
    "\n",
    "    a = 17.27\n",
    "    b = 237.7\n",
    "    alpha = ((a * T) / (b + T)) + np.log(RH/100.0)\n",
    "    return (b * alpha) / (a - alpha)"
   ],
   "id": "9445fe78a26a2b4a",
   "outputs": [],
   "execution_count": 46
  },
  {
   "metadata": {
    "ExecuteTime": {
     "end_time": "2025-04-19T19:46:39.260135Z",
     "start_time": "2025-04-19T19:46:39.154143Z"
    }
   },
   "cell_type": "code",
   "source": "pd_result[\"coe:dew_point_temperature_ensavg\"] = pd_result.apply(calculate_dewpoint, axis=1)",
   "id": "8f10042e8f637cad",
   "outputs": [],
   "execution_count": 47
  },
  {
   "metadata": {
    "ExecuteTime": {
     "end_time": "2025-04-19T19:46:39.820423Z",
     "start_time": "2025-04-19T19:46:39.814503Z"
    }
   },
   "cell_type": "code",
   "source": [
    "pd_result[\"coe:dew_point_depression_ensavg\"] = (\n",
    "    pd_result[\"coe:air_temperature_ensavg\"] -\n",
    "    pd_result[\"coe:dew_point_temperature_ensavg\"]\n",
    ")"
   ],
   "id": "6dfa6c43911c4764",
   "outputs": [],
   "execution_count": 48
  },
  {
   "metadata": {
    "ExecuteTime": {
     "end_time": "2025-04-19T19:46:40.370233Z",
     "start_time": "2025-04-19T19:46:40.357114Z"
    }
   },
   "cell_type": "code",
   "source": [
    "def calculate_mixing_ratio(row):\n",
    "    \"\"\"Calculate water vapor mixing ratio from dew point and pressure\"\"\"\n",
    "    T_d = row[\"coe:dew_point_temperature_ensavg\"]\n",
    "    P = row[\"coe:surface_air_pressure_ensavg\"]\n",
    "\n",
    "    if pd.isna(T_d) or pd.isna(P):\n",
    "        return np.nan\n",
    "\n",
    "    a = 17.368\n",
    "    b = 238.83\n",
    "    c = 6.107\n",
    "    e = c * np.exp((a * T_d) / (b + T_d))\n",
    "    return 622.0 * (e / (P - e))"
   ],
   "id": "3a3e9ba8551a07e1",
   "outputs": [],
   "execution_count": 49
  },
  {
   "metadata": {
    "ExecuteTime": {
     "end_time": "2025-04-19T19:46:41.266512Z",
     "start_time": "2025-04-19T19:46:41.036617Z"
    }
   },
   "cell_type": "code",
   "source": "pd_result[\"coe:water_vapor_mixing_ratio_ensavg\"] = pd_result.apply(calculate_mixing_ratio, axis=1)",
   "id": "de38b77a5f55e438",
   "outputs": [],
   "execution_count": 50
  },
  {
   "metadata": {
    "ExecuteTime": {
     "end_time": "2025-04-19T19:46:41.821514Z",
     "start_time": "2025-04-19T19:46:41.683345Z"
    }
   },
   "cell_type": "code",
   "source": [
    "pd_result[\"time:cos_hourofday\"] = pd_result[\"forecast_reference_time\"].dt.hour.apply(\n",
    "    lambda h: np.cos(2 * np.pi * h / 24)\n",
    ")\n",
    "pd_result[\"time:sin_hourofday\"] = pd_result[\"forecast_reference_time\"].dt.hour.apply(\n",
    "    lambda h: np.sin(2 * np.pi * h / 24)\n",
    ")\n",
    "pd_result[\"time:cos_dayofyear\"] = pd_result[\"forecast_reference_time\"].dt.dayofyear.apply(\n",
    "    lambda d: np.cos(2 * np.pi * d / 365)\n",
    ")\n",
    "pd_result[\"time:sin_dayofyear\"] = pd_result[\"forecast_reference_time\"].dt.dayofyear.apply(\n",
    "    lambda d: np.sin(2 * np.pi * d / 365)\n",
    ")\n",
    "pd_result[\"coe:leadtime\"] = pd_result[\"t\"]"
   ],
   "id": "c4c4eb27047520a8",
   "outputs": [],
   "execution_count": 51
  },
  {
   "metadata": {
    "ExecuteTime": {
     "end_time": "2025-04-19T19:46:42.474002Z",
     "start_time": "2025-04-19T19:46:42.460866Z"
    }
   },
   "cell_type": "code",
   "source": [
    "column_mapping = {}\n",
    "for col in pd_result.columns:\n",
    "    if ':' in col:\n",
    "        new_col = col.replace(':', '_')\n",
    "        column_mapping[col] = new_col"
   ],
   "id": "77ddef6f3eb6f289",
   "outputs": [],
   "execution_count": 52
  },
  {
   "metadata": {
    "ExecuteTime": {
     "end_time": "2025-04-19T19:46:43.575283Z",
     "start_time": "2025-04-19T19:46:43.561890Z"
    }
   },
   "cell_type": "code",
   "source": [
    "if column_mapping:\n",
    "    pd_result = pd_result.rename(columns=column_mapping)\n",
    "    print(\"\\nRenamed columns to avoid Windows path issues:\")\n",
    "    for old, new in column_mapping.items():\n",
    "        print(f\"  {old} → {new}\")"
   ],
   "id": "f3979eaed9c59f45",
   "outputs": [
    {
     "name": "stdout",
     "output_type": "stream",
     "text": [
      "\n",
      "Renamed columns to avoid Windows path issues:\n",
      "  coe:t_2m_ensavg → coe_t_2m_ensavg\n",
      "  coe:ff_10m_ensavg → coe_ff_10m_ensavg\n",
      "  coe:dd_10m_ensavg → coe_dd_10m_ensavg\n",
      "  coe:tot_prec_ensavg → coe_tot_prec_ensavg\n",
      "  coe:relhum_2m_ensavg → coe_relhum_2m_ensavg\n",
      "  coe:dursun_ensavg → coe_dursun_ensavg\n",
      "  coe:air_temperature_ensavg → coe_air_temperature_ensavg\n",
      "  coe:relative_humidity_ensavg → coe_relative_humidity_ensavg\n",
      "  coe:surface_air_pressure_ensavg → coe_surface_air_pressure_ensavg\n",
      "  coe:dew_point_temperature_ensavg → coe_dew_point_temperature_ensavg\n",
      "  coe:dew_point_depression_ensavg → coe_dew_point_depression_ensavg\n",
      "  coe:water_vapor_mixing_ratio_ensavg → coe_water_vapor_mixing_ratio_ensavg\n",
      "  time:cos_hourofday → time_cos_hourofday\n",
      "  time:sin_hourofday → time_sin_hourofday\n",
      "  time:cos_dayofyear → time_cos_dayofyear\n",
      "  time:sin_dayofyear → time_sin_dayofyear\n",
      "  coe:leadtime → coe_leadtime\n"
     ]
    }
   ],
   "execution_count": 53
  },
  {
   "metadata": {
    "ExecuteTime": {
     "end_time": "2025-04-19T19:46:44.628509Z",
     "start_time": "2025-04-19T19:46:44.618330Z"
    }
   },
   "cell_type": "code",
   "source": [
    "station_metadata = pd.DataFrame(station_metadata.to_dict(as_series=True))\n",
    "pd_result['station'] = pd_result['station'].astype(str)\n",
    "station_metadata['station'] = station_metadata['station'].astype(str)"
   ],
   "id": "5a5fc9a44d7f8fda",
   "outputs": [],
   "execution_count": 54
  },
  {
   "metadata": {
    "ExecuteTime": {
     "end_time": "2025-04-19T19:46:46.769997Z",
     "start_time": "2025-04-19T19:46:46.762142Z"
    }
   },
   "cell_type": "code",
   "source": [
    "available_stations = set(pd_result['station'].unique())\n",
    "metadata_stations = set(station_metadata['station'].unique())\n",
    "print(f\"\\nFound {len(available_stations)} stations in data and {len(metadata_stations)} stations in metadata\")\n",
    "if not available_stations.issubset(metadata_stations):\n",
    "    print(f\"Warning: {len(available_stations - metadata_stations)} stations in data not found in metadata\")"
   ],
   "id": "9bc2c6cc19b1efbf",
   "outputs": [
    {
     "name": "stdout",
     "output_type": "stream",
     "text": [
      "\n",
      "Found 183 stations in data and 184 stations in metadata\n"
     ]
    }
   ],
   "execution_count": 55
  },
  {
   "metadata": {
    "ExecuteTime": {
     "end_time": "2025-04-19T19:46:48.388597Z",
     "start_time": "2025-04-19T19:46:48.379096Z"
    }
   },
   "cell_type": "code",
   "source": [
    "merged_result = pd.merge(pd_result, station_metadata, on='station', how='left')\n",
    "print(f\"Merged dataframe has {merged_result.shape[0]} rows and {merged_result.shape[1]} columns\")"
   ],
   "id": "e2a97182a318864f",
   "outputs": [
    {
     "name": "stdout",
     "output_type": "stream",
     "text": [
      "Merged dataframe has 3843 rows and 24 columns\n"
     ]
    }
   ],
   "execution_count": 56
  },
  {
   "metadata": {
    "ExecuteTime": {
     "end_time": "2025-04-19T19:50:10.722738Z",
     "start_time": "2025-04-19T19:50:10.702779Z"
    }
   },
   "cell_type": "code",
   "source": [
    "missing_coords = merged_result[merged_result['longitude'].isna()]['station'].unique()\n",
    "if len(missing_coords) > 0:\n",
    "    print(f\"Warning: {len(missing_coords)} stations are missing coordinates after merge: {missing_coords}\")"
   ],
   "id": "7bb13f8eb1704aaa",
   "outputs": [],
   "execution_count": 59
  },
  {
   "metadata": {
    "ExecuteTime": {
     "end_time": "2025-04-19T19:50:12.218783Z",
     "start_time": "2025-04-19T19:50:12.191876Z"
    }
   },
   "cell_type": "code",
   "source": [
    "if 'model_height_difference' not in merged_result.columns:\n",
    "    # In the PCPP paper, this is the difference between model terrain height and actual station elevation\n",
    "    # Since we don't have model terrain height, we'll use a placeholder based on elevation\n",
    "    # 10% of elevation is a rough approximation\n",
    "    merged_result['model_height_difference'] = merged_result['elevation'] * 0.1"
   ],
   "id": "fa1219442d279acb",
   "outputs": [],
   "execution_count": 60
  },
  {
   "metadata": {
    "ExecuteTime": {
     "end_time": "2025-04-19T19:50:34.781698Z",
     "start_time": "2025-04-19T19:50:34.769201Z"
    }
   },
   "cell_type": "code",
   "source": [
    "common_stations = set(station_metadata['station'].unique()) & set(merged_result['station'].unique())\n",
    "print(f\"Number of common stations: {len(common_stations)}\")\n",
    "\n",
    "# Sadece ortak istasyonlarla çalışın\n",
    "station_coords = station_metadata[station_metadata['station'].isin(common_stations)]\n",
    "data_vars = merged_result[merged_result['station'].isin(common_stations)]"
   ],
   "id": "44812561535d97b5",
   "outputs": [
    {
     "name": "stdout",
     "output_type": "stream",
     "text": [
      "Number of common stations: 183\n"
     ]
    }
   ],
   "execution_count": 61
  },
  {
   "metadata": {
    "ExecuteTime": {
     "end_time": "2025-04-19T19:50:40.937326Z",
     "start_time": "2025-04-19T19:50:40.929316Z"
    }
   },
   "cell_type": "code",
   "source": [
    "station_coords = station_coords[['station', 'longitude', 'latitude', 'elevation', 'grid_idx']]\n",
    "if 'model_height_difference' not in station_coords.columns:\n",
    "    station_coords['model_height_difference'] = station_coords['elevation'] * 0.1\n",
    "station_coords = station_coords.drop_duplicates('station').set_index('station')"
   ],
   "id": "8a4b1f11c27f9e80",
   "outputs": [],
   "execution_count": 62
  },
  {
   "metadata": {
    "ExecuteTime": {
     "end_time": "2025-04-19T19:51:09.950007Z",
     "start_time": "2025-04-19T19:51:09.941872Z"
    }
   },
   "cell_type": "code",
   "source": [
    "data_cols = [col for col in merged_result.columns if col not in ['longitude', 'latitude', 'elevation', 'grid_idx', 'model_height_difference']]\n",
    "data_vars = merged_result[data_cols]"
   ],
   "id": "27bfd35356d339f",
   "outputs": [],
   "execution_count": 63
  },
  {
   "metadata": {
    "ExecuteTime": {
     "end_time": "2025-04-19T19:51:11.013780Z",
     "start_time": "2025-04-19T19:51:10.934822Z"
    }
   },
   "cell_type": "code",
   "source": [
    "# Veri değişkenleriyle xarray dataseti oluşturun\n",
    "ds = data_vars.set_index(['station', 'forecast_reference_time', 't']).to_xarray()"
   ],
   "id": "be17da5e2e77ba31",
   "outputs": [],
   "execution_count": 64
  },
  {
   "metadata": {
    "ExecuteTime": {
     "end_time": "2025-04-19T19:51:12.328883Z",
     "start_time": "2025-04-19T19:51:12.302468Z"
    }
   },
   "cell_type": "code",
   "source": [
    "for col in ['longitude', 'latitude', 'elevation', 'grid_idx', 'model_height_difference']:\n",
    "    if col in station_coords.columns:\n",
    "        ds.coords[col] = ('station', station_coords[col].values)"
   ],
   "id": "491a15ba0ffa840c",
   "outputs": [],
   "execution_count": 65
  },
  {
   "metadata": {
    "ExecuteTime": {
     "end_time": "2025-04-19T19:51:16.613784Z",
     "start_time": "2025-04-19T19:51:14.814037Z"
    }
   },
   "cell_type": "code",
   "source": [
    "if not os.path.exists('data'):\n",
    "    os.makedirs('data')\n",
    "\n",
    "ds.to_zarr('data/features.zarr', mode='w')\n",
    "print(\"Saved features.zarr\")"
   ],
   "id": "806b010d48dd9eb0",
   "outputs": [
    {
     "name": "stderr",
     "output_type": "stream",
     "text": [
      "D:\\ML2025\\PCPP\\.venv\\Lib\\site-packages\\zarr\\codecs\\vlen_utf8.py:44: UserWarning: The codec `vlen-utf8` is currently not part in the Zarr format 3 specification. It may not be supported by other zarr implementations and may change in the future.\n",
      "  return cls(**configuration_parsed)\n",
      "D:\\ML2025\\PCPP\\.venv\\Lib\\site-packages\\zarr\\core\\array.py:3989: UserWarning: The dtype `StringDType()` is currently not part in the Zarr format 3 specification. It may not be supported by other zarr implementations and may change in the future.\n",
      "  meta = AsyncArray._create_metadata_v3(\n"
     ]
    },
    {
     "name": "stdout",
     "output_type": "stream",
     "text": [
      "Saved features.zarr\n"
     ]
    },
    {
     "name": "stderr",
     "output_type": "stream",
     "text": [
      "D:\\ML2025\\PCPP\\.venv\\Lib\\site-packages\\zarr\\codecs\\vlen_utf8.py:44: UserWarning: The codec `vlen-utf8` is currently not part in the Zarr format 3 specification. It may not be supported by other zarr implementations and may change in the future.\n",
      "  return cls(**configuration_parsed)\n",
      "D:\\ML2025\\PCPP\\.venv\\Lib\\site-packages\\zarr\\api\\asynchronous.py:203: UserWarning: Consolidated metadata is currently not part in the Zarr format 3 specification. It may not be supported by other zarr implementations and may change in the future.\n",
      "  warnings.warn(\n"
     ]
    }
   ],
   "execution_count": 66
  },
  {
   "metadata": {},
   "cell_type": "code",
   "outputs": [],
   "execution_count": null,
   "source": "\n",
   "id": "d1a88acf9a20a9f7"
  }
 ],
 "metadata": {
  "kernelspec": {
   "display_name": "Python 3",
   "language": "python",
   "name": "python3"
  },
  "language_info": {
   "codemirror_mode": {
    "name": "ipython",
    "version": 2
   },
   "file_extension": ".py",
   "mimetype": "text/x-python",
   "name": "python",
   "nbconvert_exporter": "python",
   "pygments_lexer": "ipython2",
   "version": "2.7.6"
  }
 },
 "nbformat": 4,
 "nbformat_minor": 5
}
